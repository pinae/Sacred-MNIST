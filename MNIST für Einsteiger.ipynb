{
 "cells": [
  {
   "cell_type": "code",
   "execution_count": 1,
   "metadata": {},
   "outputs": [
    {
     "name": "stderr",
     "output_type": "stream",
     "text": [
      "Using TensorFlow backend.\n"
     ]
    }
   ],
   "source": [
    "from tensorflow.keras.datasets import mnist\n",
    "from tensorflow.keras.models import Sequential\n",
    "from tensorflow.keras.layers import Dense, Flatten, Dropout\n",
    "from tensorflow.keras.layers import Conv2D, MaxPooling2D\n",
    "from tensorflow.keras.utils import to_categorical\n",
    "from tensorflow.keras.losses import categorical_crossentropy\n",
    "from tensorflow.keras.optimizers import Adam\n",
    "import keras.backend as K"
   ]
  },
  {
   "cell_type": "code",
   "execution_count": 2,
   "metadata": {},
   "outputs": [],
   "source": [
    "train_da, test_da = mnist.load_data()\n",
    "x_train, y_train = train_da \n",
    "x_test, y_test = test_da"
   ]
  },
  {
   "cell_type": "code",
   "execution_count": 3,
   "metadata": {},
   "outputs": [
    {
     "name": "stdout",
     "output_type": "stream",
     "text": [
      "5 0 4 1\n",
      "9 2 1 3\n",
      "1 4 3 5\n",
      "3 6 1 7\n"
     ]
    },
    {
     "data": {
      "image/png": "[encoded data removed]",
      "text/plain": [
       "<PIL.Image.Image image mode=L size=896x896 at 0x23AE811A508>"
      ]
     },
     "execution_count": 3,
     "metadata": {},
     "output_type": "execute_result"
    }
   ],
   "source": [
    "from IPython.display import Image\n",
    "from PIL import Image\n",
    "import numpy as np\n",
    "a = np.concatenate(x_train[0:4], axis=1)\n",
    "print(\" \".join([str(x) for x in y_train[0:4]]))\n",
    "for i in range(3):\n",
    "    a = np.concatenate([a, np.concatenate(x_train[4+i*4:8+i*4], axis=1)], axis=0)\n",
    "    print(\" \".join([str(x) for x in y_train[4+i*4:8+i*4]]))\n",
    "img = Image.fromarray(a, 'L')\n",
    "img.resize((896, 896), Image.NEAREST)"
   ]
  },
  {
   "cell_type": "code",
   "execution_count": 4,
   "metadata": {},
   "outputs": [],
   "source": [
    "data_format = K.image_data_format()\n",
    "rows, cols = 28, 28\n",
    "num_classes = 10\n",
    "train_size = x_train.shape[0]\n",
    "test_size = x_test.shape[0]\n",
    "\n",
    "if data_format == 'channels_first':\n",
    "    x_train = x_train.reshape(train_size, 1, rows, cols)\n",
    "    x_test = x_test.reshape(test_size, 1, rows, cols)\n",
    "    input_shape = (1, rows, cols)\n",
    "else:\n",
    "    x_train = x_train.reshape(train_size, rows, cols, 1)\n",
    "    x_test = x_test.reshape(test_size, rows, cols, 1)\n",
    "    input_shape = (rows, cols, 1)\n",
    "    \n",
    "# norm data to float in range 0..1\n",
    "x_train = x_train.astype('float32')\n",
    "x_test = x_test.astype('float32')\n",
    "x_train /= 255\n",
    "x_test /= 255\n",
    "\n",
    "# convert class vectors to one hot vector\n",
    "y_train = to_categorical(y_train, 10)\n",
    "y_test = to_categorical(y_test, 10)"
   ]
  },
  {
   "cell_type": "code",
   "execution_count": 5,
   "metadata": {},
   "outputs": [],
   "source": [
    "x_train = x_train[:100]\n",
    "y_train = y_train[:100]"
   ]
  },
  {
   "cell_type": "code",
   "execution_count": 6,
   "metadata": {},
   "outputs": [
    {
     "name": "stdout",
     "output_type": "stream",
     "text": [
      "Model: \"sequential\"\n",
      "_________________________________________________________________\n",
      "Layer (type)                 Output Shape              Param #   \n",
      "=================================================================\n",
      "flatten (Flatten)            (None, 784)               0         \n",
      "_________________________________________________________________\n",
      "dense (Dense)                (None, 10)                7850      \n",
      "=================================================================\n",
      "Total params: 7,850\n",
      "Trainable params: 7,850\n",
      "Non-trainable params: 0\n",
      "_________________________________________________________________\n",
      "None\n"
     ]
    }
   ],
   "source": [
    "model = Sequential()\n",
    "model.add(Flatten(input_shape=input_shape))\n",
    "model.add(Dense(num_classes, activation='softmax'))\n",
    "print(model.summary())"
   ]
  },
  {
   "cell_type": "code",
   "execution_count": 12,
   "metadata": {},
   "outputs": [
    {
     "data": {
      "image/svg+xml": [
       "<svg height=\"200pt\" viewBox=\"0.00 0.00 314.00 221.00\" width=\"283pt\" xmlns=\"http://www.w3.org/2000/svg\" xmlns:xlink=\"http://www.w3.org/1999/xlink\">\n",
       "<g class=\"graph\" id=\"graph0\" transform=\"scale(0.902778 0.902778) rotate(0) translate(4 217)\">\n",
       "<title>G</title>\n",
       "<polygon fill=\"white\" points=\"-4,4 -4,-217 310,-217 310,4 -4,4\" stroke=\"none\"/>\n",
       "<!-- 2452080465160 -->\n",
       "<g class=\"node\" id=\"node1\"><title>2452080465160</title>\n",
       "<polygon fill=\"none\" points=\"0,-166.5 0,-212.5 306,-212.5 306,-166.5 0,-166.5\" stroke=\"black\"/>\n",
       "<text font-family=\"Times New Roman,serif\" font-size=\"14.00\" text-anchor=\"middle\" x=\"76.5\" y=\"-185.8\">flatten_input: InputLayer</text>\n",
       "<polyline fill=\"none\" points=\"153,-166.5 153,-212.5 \" stroke=\"black\"/>\n",
       "<text font-family=\"Times New Roman,serif\" font-size=\"14.00\" text-anchor=\"middle\" x=\"181\" y=\"-197.3\">input:</text>\n",
       "<polyline fill=\"none\" points=\"153,-189.5 209,-189.5 \" stroke=\"black\"/>\n",
       "<text font-family=\"Times New Roman,serif\" font-size=\"14.00\" text-anchor=\"middle\" x=\"181\" y=\"-174.3\">output:</text>\n",
       "<polyline fill=\"none\" points=\"209,-166.5 209,-212.5 \" stroke=\"black\"/>\n",
       "<text font-family=\"Times New Roman,serif\" font-size=\"14.00\" text-anchor=\"middle\" x=\"257.5\" y=\"-197.3\">[(?, 28, 28, 1)]</text>\n",
       "<polyline fill=\"none\" points=\"209,-189.5 306,-189.5 \" stroke=\"black\"/>\n",
       "<text font-family=\"Times New Roman,serif\" font-size=\"14.00\" text-anchor=\"middle\" x=\"257.5\" y=\"-174.3\">[(?, 28, 28, 1)]</text>\n",
       "</g>\n",
       "<!-- 2452080473288 -->\n",
       "<g class=\"node\" id=\"node2\"><title>2452080473288</title>\n",
       "<polygon fill=\"none\" points=\"33.5,-83.5 33.5,-129.5 272.5,-129.5 272.5,-83.5 33.5,-83.5\" stroke=\"black\"/>\n",
       "<text font-family=\"Times New Roman,serif\" font-size=\"14.00\" text-anchor=\"middle\" x=\"81\" y=\"-102.8\">flatten: Flatten</text>\n",
       "<polyline fill=\"none\" points=\"128.5,-83.5 128.5,-129.5 \" stroke=\"black\"/>\n",
       "<text font-family=\"Times New Roman,serif\" font-size=\"14.00\" text-anchor=\"middle\" x=\"156.5\" y=\"-114.3\">input:</text>\n",
       "<polyline fill=\"none\" points=\"128.5,-106.5 184.5,-106.5 \" stroke=\"black\"/>\n",
       "<text font-family=\"Times New Roman,serif\" font-size=\"14.00\" text-anchor=\"middle\" x=\"156.5\" y=\"-91.3\">output:</text>\n",
       "<polyline fill=\"none\" points=\"184.5,-83.5 184.5,-129.5 \" stroke=\"black\"/>\n",
       "<text font-family=\"Times New Roman,serif\" font-size=\"14.00\" text-anchor=\"middle\" x=\"228.5\" y=\"-114.3\">(?, 28, 28, 1)</text>\n",
       "<polyline fill=\"none\" points=\"184.5,-106.5 272.5,-106.5 \" stroke=\"black\"/>\n",
       "<text font-family=\"Times New Roman,serif\" font-size=\"14.00\" text-anchor=\"middle\" x=\"228.5\" y=\"-91.3\">(?, 784)</text>\n",
       "</g>\n",
       "<!-- 2452080465160&#45;&gt;2452080473288 -->\n",
       "<g class=\"edge\" id=\"edge1\"><title>2452080465160-&gt;2452080473288</title>\n",
       "<path d=\"M153,-166.366C153,-158.152 153,-148.658 153,-139.725\" fill=\"none\" stroke=\"black\"/>\n",
       "<polygon fill=\"black\" points=\"156.5,-139.607 153,-129.607 149.5,-139.607 156.5,-139.607\" stroke=\"black\"/>\n",
       "</g>\n",
       "<!-- 2452080475592 -->\n",
       "<g class=\"node\" id=\"node3\"><title>2452080475592</title>\n",
       "<polygon fill=\"none\" points=\"50.5,-0.5 50.5,-46.5 255.5,-46.5 255.5,-0.5 50.5,-0.5\" stroke=\"black\"/>\n",
       "<text font-family=\"Times New Roman,serif\" font-size=\"14.00\" text-anchor=\"middle\" x=\"95.5\" y=\"-19.8\">dense: Dense</text>\n",
       "<polyline fill=\"none\" points=\"140.5,-0.5 140.5,-46.5 \" stroke=\"black\"/>\n",
       "<text font-family=\"Times New Roman,serif\" font-size=\"14.00\" text-anchor=\"middle\" x=\"168.5\" y=\"-31.3\">input:</text>\n",
       "<polyline fill=\"none\" points=\"140.5,-23.5 196.5,-23.5 \" stroke=\"black\"/>\n",
       "<text font-family=\"Times New Roman,serif\" font-size=\"14.00\" text-anchor=\"middle\" x=\"168.5\" y=\"-8.3\">output:</text>\n",
       "<polyline fill=\"none\" points=\"196.5,-0.5 196.5,-46.5 \" stroke=\"black\"/>\n",
       "<text font-family=\"Times New Roman,serif\" font-size=\"14.00\" text-anchor=\"middle\" x=\"226\" y=\"-31.3\">(?, 784)</text>\n",
       "<polyline fill=\"none\" points=\"196.5,-23.5 255.5,-23.5 \" stroke=\"black\"/>\n",
       "<text font-family=\"Times New Roman,serif\" font-size=\"14.00\" text-anchor=\"middle\" x=\"226\" y=\"-8.3\">(?, 10)</text>\n",
       "</g>\n",
       "<!-- 2452080473288&#45;&gt;2452080475592 -->\n",
       "<g class=\"edge\" id=\"edge2\"><title>2452080473288-&gt;2452080475592</title>\n",
       "<path d=\"M153,-83.3664C153,-75.1516 153,-65.6579 153,-56.7252\" fill=\"none\" stroke=\"black\"/>\n",
       "<polygon fill=\"black\" points=\"156.5,-56.6068 153,-46.6068 149.5,-56.6069 156.5,-56.6068\" stroke=\"black\"/>\n",
       "</g>\n",
       "</g>\n",
       "</svg>"
      ],
      "text/plain": [
       "<IPython.core.display.SVG object>"
      ]
     },
     "execution_count": 12,
     "metadata": {},
     "output_type": "execute_result"
    }
   ],
   "source": [
    "from IPython.display import SVG\n",
    "from tensorflow.keras.utils import model_to_dot\n",
    "\n",
    "SVG(model_to_dot(model, show_shapes=True, dpi=65).create(prog='dot', format='svg'))"
   ]
  },
  {
   "cell_type": "code",
   "execution_count": 13,
   "metadata": {},
   "outputs": [],
   "source": [
    "model.compile(loss=categorical_crossentropy,\n",
    "              optimizer=Adam(),\n",
    "              metrics=['accuracy'])"
   ]
  },
  {
   "cell_type": "code",
   "execution_count": 14,
   "metadata": {},
   "outputs": [],
   "source": [
    "batch_size = 128\n",
    "epochs = 20"
   ]
  },
  {
   "cell_type": "code",
   "execution_count": 15,
   "metadata": {},
   "outputs": [
    {
     "name": "stdout",
     "output_type": "stream",
     "text": [
      "Train on 100 samples, validate on 10000 samples\n",
      "Epoch 1/20\n",
      "100/100 [==============================] - 3s 29ms/sample - loss: 2.5088 - accuracy: 0.0800 - val_loss: 2.4764 - val_accuracy: 0.0883\n",
      "Epoch 2/20\n",
      "100/100 [==============================] - 2s 16ms/sample - loss: 2.4343 - accuracy: 0.0900 - val_loss: 2.4304 - val_accuracy: 0.1049\n",
      "Epoch 3/20\n",
      "100/100 [==============================] - 2s 21ms/sample - loss: 2.3621 - accuracy: 0.1300 - val_loss: 2.3863 - val_accuracy: 0.1241\n",
      "Epoch 4/20\n",
      "100/100 [==============================] - 2s 22ms/sample - loss: 2.2922 - accuracy: 0.1400 - val_loss: 2.3443 - val_accuracy: 0.1412\n",
      "Epoch 5/20\n",
      "100/100 [==============================] - 2s 19ms/sample - loss: 2.2246 - accuracy: 0.2000 - val_loss: 2.3042 - val_accuracy: 0.1619\n",
      "Epoch 6/20\n",
      "100/100 [==============================] - 3s 28ms/sample - loss: 2.1592 - accuracy: 0.2100 - val_loss: 2.2659 - val_accuracy: 0.1827\n",
      "Epoch 7/20\n",
      "100/100 [==============================] - 2s 24ms/sample - loss: 2.0960 - accuracy: 0.2500 - val_loss: 2.2294 - val_accuracy: 0.2046\n",
      "Epoch 8/20\n",
      "100/100 [==============================] - 2s 16ms/sample - loss: 2.0350 - accuracy: 0.3100 - val_loss: 2.1944 - val_accuracy: 0.2349\n",
      "Epoch 9/20\n",
      "100/100 [==============================] - 2s 24ms/sample - loss: 1.9760 - accuracy: 0.3600 - val_loss: 2.1608 - val_accuracy: 0.2621\n",
      "Epoch 10/20\n",
      "100/100 [==============================] - 2s 16ms/sample - loss: 1.9191 - accuracy: 0.3900 - val_loss: 2.1287 - val_accuracy: 0.2852\n",
      "Epoch 11/20\n",
      "100/100 [==============================] - 2s 19ms/sample - loss: 1.8642 - accuracy: 0.4400 - val_loss: 2.0978 - val_accuracy: 0.3049\n",
      "Epoch 12/20\n",
      "100/100 [==============================] - 1s 13ms/sample - loss: 1.8112 - accuracy: 0.4900 - val_loss: 2.0680 - val_accuracy: 0.3271\n",
      "Epoch 13/20\n",
      "100/100 [==============================] - 3s 30ms/sample - loss: 1.7600 - accuracy: 0.5500 - val_loss: 2.0391 - val_accuracy: 0.3490\n",
      "Epoch 14/20\n",
      "100/100 [==============================] - 3s 26ms/sample - loss: 1.7106 - accuracy: 0.5900 - val_loss: 2.0112 - val_accuracy: 0.3678\n",
      "Epoch 15/20\n",
      "100/100 [==============================] - 3s 28ms/sample - loss: 1.6628 - accuracy: 0.6200 - val_loss: 1.9840 - val_accuracy: 0.3844\n",
      "Epoch 16/20\n",
      "100/100 [==============================] - 2s 23ms/sample - loss: 1.6164 - accuracy: 0.6600 - val_loss: 1.9574 - val_accuracy: 0.4032\n",
      "Epoch 17/20\n",
      "100/100 [==============================] - 2s 20ms/sample - loss: 1.5715 - accuracy: 0.6900 - val_loss: 1.9313 - val_accuracy: 0.4206\n",
      "Epoch 18/20\n",
      "100/100 [==============================] - 2s 17ms/sample - loss: 1.5279 - accuracy: 0.7200 - val_loss: 1.9057 - val_accuracy: 0.4369\n",
      "Epoch 19/20\n",
      "100/100 [==============================] - 2s 19ms/sample - loss: 1.4856 - accuracy: 0.7400 - val_loss: 1.8806 - val_accuracy: 0.4549\n",
      "Epoch 20/20\n",
      "100/100 [==============================] - 3s 27ms/sample - loss: 1.4444 - accuracy: 0.7500 - val_loss: 1.8559 - val_accuracy: 0.4715\n"
     ]
    }
   ],
   "source": [
    "history = model.fit(\n",
    "    x_train, y_train,\n",
    "    batch_size=batch_size,\n",
    "    epochs=epochs,\n",
    "    verbose=1,\n",
    "    validation_data=(x_test, y_test)\n",
    ")"
   ]
  },
  {
   "cell_type": "code",
   "execution_count": 16,
   "metadata": {},
   "outputs": [
    {
     "name": "stdout",
     "output_type": "stream",
     "text": [
      "Test loss: 1.8558542446136475\n",
      "Test accuracy: 0.4715\n"
     ]
    }
   ],
   "source": [
    "score = model.evaluate(x_test, y_test, verbose=0)\n",
    "print('Test loss:', score[0])\n",
    "print('Test accuracy:', score[1])"
   ]
  },
  {
   "cell_type": "code",
   "execution_count": 17,
   "metadata": {},
   "outputs": [
    {
     "name": "stdout",
     "output_type": "stream",
     "text": [
      "    Epoche                  Legende      Loss\n",
      "0        0  Loss auf Trainingsdaten  2.508754\n",
      "1        1  Loss auf Trainingsdaten  2.434285\n",
      "2        2  Loss auf Trainingsdaten  2.362117\n",
      "3        3  Loss auf Trainingsdaten  2.292233\n",
      "4        4  Loss auf Trainingsdaten  2.224611\n",
      "5        5  Loss auf Trainingsdaten  2.159218\n",
      "6        6  Loss auf Trainingsdaten  2.096015\n",
      "7        7  Loss auf Trainingsdaten  2.034962\n",
      "8        8  Loss auf Trainingsdaten  1.976013\n",
      "9        9  Loss auf Trainingsdaten  1.919116\n",
      "10      10  Loss auf Trainingsdaten  1.864209\n",
      "11      11  Loss auf Trainingsdaten  1.811214\n",
      "12      12  Loss auf Trainingsdaten  1.760044\n",
      "13      13  Loss auf Trainingsdaten  1.710596\n",
      "14      14  Loss auf Trainingsdaten  1.662767\n",
      "15      15  Loss auf Trainingsdaten  1.616447\n",
      "16      16  Loss auf Trainingsdaten  1.571537\n",
      "17      17  Loss auf Trainingsdaten  1.527946\n",
      "18      18  Loss auf Trainingsdaten  1.485600\n",
      "19      19  Loss auf Trainingsdaten  1.444439\n",
      "20       0       Loss auf Testdaten  2.476414\n",
      "21       1       Loss auf Testdaten  2.430366\n",
      "22       2       Loss auf Testdaten  2.386336\n",
      "23       3       Loss auf Testdaten  2.344316\n",
      "24       4       Loss auf Testdaten  2.304220\n",
      "25       5       Loss auf Testdaten  2.265938\n",
      "26       6       Loss auf Testdaten  2.229354\n",
      "27       7       Loss auf Testdaten  2.194356\n",
      "28       8       Loss auf Testdaten  2.160835\n",
      "29       9       Loss auf Testdaten  2.128676\n",
      "30      10       Loss auf Testdaten  2.097759\n",
      "31      11       Loss auf Testdaten  2.067956\n",
      "32      12       Loss auf Testdaten  2.039138\n",
      "33      13       Loss auf Testdaten  2.011176\n",
      "34      14       Loss auf Testdaten  1.983950\n",
      "35      15       Loss auf Testdaten  1.957355\n",
      "36      16       Loss auf Testdaten  1.931303\n",
      "37      17       Loss auf Testdaten  1.905727\n",
      "38      18       Loss auf Testdaten  1.880584\n",
      "39      19       Loss auf Testdaten  1.855854\n",
      "    Epoche                      Legende  Accuracy\n",
      "0        0  Accuracy auf Trainingsdaten    0.0800\n",
      "1        1  Accuracy auf Trainingsdaten    0.0900\n",
      "2        2  Accuracy auf Trainingsdaten    0.1300\n",
      "3        3  Accuracy auf Trainingsdaten    0.1400\n",
      "4        4  Accuracy auf Trainingsdaten    0.2000\n",
      "5        5  Accuracy auf Trainingsdaten    0.2100\n",
      "6        6  Accuracy auf Trainingsdaten    0.2500\n",
      "7        7  Accuracy auf Trainingsdaten    0.3100\n",
      "8        8  Accuracy auf Trainingsdaten    0.3600\n",
      "9        9  Accuracy auf Trainingsdaten    0.3900\n",
      "10      10  Accuracy auf Trainingsdaten    0.4400\n",
      "11      11  Accuracy auf Trainingsdaten    0.4900\n",
      "12      12  Accuracy auf Trainingsdaten    0.5500\n",
      "13      13  Accuracy auf Trainingsdaten    0.5900\n",
      "14      14  Accuracy auf Trainingsdaten    0.6200\n",
      "15      15  Accuracy auf Trainingsdaten    0.6600\n",
      "16      16  Accuracy auf Trainingsdaten    0.6900\n",
      "17      17  Accuracy auf Trainingsdaten    0.7200\n",
      "18      18  Accuracy auf Trainingsdaten    0.7400\n",
      "19      19  Accuracy auf Trainingsdaten    0.7500\n",
      "20       0       Accuracy auf Testdaten    0.0883\n",
      "21       1       Accuracy auf Testdaten    0.1049\n",
      "22       2       Accuracy auf Testdaten    0.1241\n",
      "23       3       Accuracy auf Testdaten    0.1412\n",
      "24       4       Accuracy auf Testdaten    0.1619\n",
      "25       5       Accuracy auf Testdaten    0.1827\n",
      "26       6       Accuracy auf Testdaten    0.2046\n",
      "27       7       Accuracy auf Testdaten    0.2349\n",
      "28       8       Accuracy auf Testdaten    0.2621\n",
      "29       9       Accuracy auf Testdaten    0.2852\n",
      "30      10       Accuracy auf Testdaten    0.3049\n",
      "31      11       Accuracy auf Testdaten    0.3271\n",
      "32      12       Accuracy auf Testdaten    0.3490\n",
      "33      13       Accuracy auf Testdaten    0.3678\n",
      "34      14       Accuracy auf Testdaten    0.3844\n",
      "35      15       Accuracy auf Testdaten    0.4032\n",
      "36      16       Accuracy auf Testdaten    0.4206\n",
      "37      17       Accuracy auf Testdaten    0.4369\n",
      "38      18       Accuracy auf Testdaten    0.4549\n",
      "39      19       Accuracy auf Testdaten    0.4715\n"
     ]
    }
   ],
   "source": [
    "from pandas import DataFrame\n",
    "df_loss = DataFrame(data={\n",
    "    'Epoche': history.epoch * 2,\n",
    "    'Legende': ['Loss auf Trainingsdaten'] * len(history.epoch) + ['Loss auf Testdaten'] * len(history.epoch),\n",
    "    'Loss': history.history['loss'] + history.history['val_loss']\n",
    "})\n",
    "df_accuracy = DataFrame(data={\n",
    "    'Epoche': history.epoch * 2,\n",
    "    'Legende': ['Accuracy auf Trainingsdaten'] * len(history.epoch) + ['Accuracy auf Testdaten'] * len(history.epoch),\n",
    "    'Accuracy': history.history['accuracy'] + history.history['val_accuracy']\n",
    "})\n",
    "print(df_loss)\n",
    "print(df_accuracy)"
   ]
  },
  {
   "cell_type": "code",
   "execution_count": 18,
   "metadata": {},
   "outputs": [
    {
     "data": {
      "application/javascript": [
       "const spec = {\"config\": {\"view\": {\"width\": 400, \"height\": 300}, \"mark\": {\"tooltip\": null}}, \"layer\": [{\"data\": {\"name\": \"data-560055e6362bf73deaddac092a8f386b\"}, \"mark\": \"line\", \"encoding\": {\"color\": {\"type\": \"nominal\", \"field\": \"Legende\"}, \"x\": {\"type\": \"quantitative\", \"field\": \"Epoche\"}, \"y\": {\"type\": \"quantitative\", \"field\": \"Loss\"}}}, {\"data\": {\"name\": \"data-ad806a99e97246762bba3674d1e595c9\"}, \"mark\": \"line\", \"encoding\": {\"color\": {\"type\": \"nominal\", \"field\": \"Legende\"}, \"x\": {\"type\": \"quantitative\", \"field\": \"Epoche\"}, \"y\": {\"type\": \"quantitative\", \"field\": \"Accuracy\"}}}], \"resolve\": {\"scale\": {\"y\": \"independent\"}}, \"$schema\": \"https://vega.github.io/schema/vega-lite/v3.4.0.json\", \"datasets\": {\"data-560055e6362bf73deaddac092a8f386b\": [{\"Epoche\": 0, \"Legende\": \"Loss auf Trainingsdaten\", \"Loss\": 2.508754253387451}, {\"Epoche\": 1, \"Legende\": \"Loss auf Trainingsdaten\", \"Loss\": 2.4342846870422363}, {\"Epoche\": 2, \"Legende\": \"Loss auf Trainingsdaten\", \"Loss\": 2.362116813659668}, {\"Epoche\": 3, \"Legende\": \"Loss auf Trainingsdaten\", \"Loss\": 2.2922332286834717}, {\"Epoche\": 4, \"Legende\": \"Loss auf Trainingsdaten\", \"Loss\": 2.2246108055114746}, {\"Epoche\": 5, \"Legende\": \"Loss auf Trainingsdaten\", \"Loss\": 2.159217596054077}, {\"Epoche\": 6, \"Legende\": \"Loss auf Trainingsdaten\", \"Loss\": 2.096014976501465}, {\"Epoche\": 7, \"Legende\": \"Loss auf Trainingsdaten\", \"Loss\": 2.0349621772766113}, {\"Epoche\": 8, \"Legende\": \"Loss auf Trainingsdaten\", \"Loss\": 1.9760133028030396}, {\"Epoche\": 9, \"Legende\": \"Loss auf Trainingsdaten\", \"Loss\": 1.919116497039795}, {\"Epoche\": 10, \"Legende\": \"Loss auf Trainingsdaten\", \"Loss\": 1.8642085790634155}, {\"Epoche\": 11, \"Legende\": \"Loss auf Trainingsdaten\", \"Loss\": 1.8112139701843262}, {\"Epoche\": 12, \"Legende\": \"Loss auf Trainingsdaten\", \"Loss\": 1.7600435018539429}, {\"Epoche\": 13, \"Legende\": \"Loss auf Trainingsdaten\", \"Loss\": 1.7105964422225952}, {\"Epoche\": 14, \"Legende\": \"Loss auf Trainingsdaten\", \"Loss\": 1.6627665758132935}, {\"Epoche\": 15, \"Legende\": \"Loss auf Trainingsdaten\", \"Loss\": 1.616446852684021}, {\"Epoche\": 16, \"Legende\": \"Loss auf Trainingsdaten\", \"Loss\": 1.5715365409851074}, {\"Epoche\": 17, \"Legende\": \"Loss auf Trainingsdaten\", \"Loss\": 1.5279461145401}, {\"Epoche\": 18, \"Legende\": \"Loss auf Trainingsdaten\", \"Loss\": 1.4855999946594238}, {\"Epoche\": 19, \"Legende\": \"Loss auf Trainingsdaten\", \"Loss\": 1.4444390535354614}, {\"Epoche\": 0, \"Legende\": \"Loss auf Testdaten\", \"Loss\": 2.4764135852813722}, {\"Epoche\": 1, \"Legende\": \"Loss auf Testdaten\", \"Loss\": 2.430365927505493}, {\"Epoche\": 2, \"Legende\": \"Loss auf Testdaten\", \"Loss\": 2.386336335372925}, {\"Epoche\": 3, \"Legende\": \"Loss auf Testdaten\", \"Loss\": 2.3443162170410154}, {\"Epoche\": 4, \"Legende\": \"Loss auf Testdaten\", \"Loss\": 2.30422041015625}, {\"Epoche\": 5, \"Legende\": \"Loss auf Testdaten\", \"Loss\": 2.2659383670806883}, {\"Epoche\": 6, \"Legende\": \"Loss auf Testdaten\", \"Loss\": 2.229354263305664}, {\"Epoche\": 7, \"Legende\": \"Loss auf Testdaten\", \"Loss\": 2.194356416320801}, {\"Epoche\": 8, \"Legende\": \"Loss auf Testdaten\", \"Loss\": 2.1608350681304933}, {\"Epoche\": 9, \"Legende\": \"Loss auf Testdaten\", \"Loss\": 2.1286762237548826}, {\"Epoche\": 10, \"Legende\": \"Loss auf Testdaten\", \"Loss\": 2.0977590766906737}, {\"Epoche\": 11, \"Legende\": \"Loss auf Testdaten\", \"Loss\": 2.067956496810913}, {\"Epoche\": 12, \"Legende\": \"Loss auf Testdaten\", \"Loss\": 2.0391381992340087}, {\"Epoche\": 13, \"Legende\": \"Loss auf Testdaten\", \"Loss\": 2.011176173210144}, {\"Epoche\": 14, \"Legende\": \"Loss auf Testdaten\", \"Loss\": 1.9839504989624024}, {\"Epoche\": 15, \"Legende\": \"Loss auf Testdaten\", \"Loss\": 1.9573552322387695}, {\"Epoche\": 16, \"Legende\": \"Loss auf Testdaten\", \"Loss\": 1.9313026947021485}, {\"Epoche\": 17, \"Legende\": \"Loss auf Testdaten\", \"Loss\": 1.9057268249511718}, {\"Epoche\": 18, \"Legende\": \"Loss auf Testdaten\", \"Loss\": 1.8805842926025391}, {\"Epoche\": 19, \"Legende\": \"Loss auf Testdaten\", \"Loss\": 1.8558542430877685}], \"data-ad806a99e97246762bba3674d1e595c9\": [{\"Epoche\": 0, \"Legende\": \"Accuracy auf Trainingsdaten\", \"Accuracy\": 0.07999999821186066}, {\"Epoche\": 1, \"Legende\": \"Accuracy auf Trainingsdaten\", \"Accuracy\": 0.09000000357627869}, {\"Epoche\": 2, \"Legende\": \"Accuracy auf Trainingsdaten\", \"Accuracy\": 0.12999999523162842}, {\"Epoche\": 3, \"Legende\": \"Accuracy auf Trainingsdaten\", \"Accuracy\": 0.14000000059604645}, {\"Epoche\": 4, \"Legende\": \"Accuracy auf Trainingsdaten\", \"Accuracy\": 0.20000000298023224}, {\"Epoche\": 5, \"Legende\": \"Accuracy auf Trainingsdaten\", \"Accuracy\": 0.20999999344348907}, {\"Epoche\": 6, \"Legende\": \"Accuracy auf Trainingsdaten\", \"Accuracy\": 0.25}, {\"Epoche\": 7, \"Legende\": \"Accuracy auf Trainingsdaten\", \"Accuracy\": 0.3100000023841858}, {\"Epoche\": 8, \"Legende\": \"Accuracy auf Trainingsdaten\", \"Accuracy\": 0.36000001430511475}, {\"Epoche\": 9, \"Legende\": \"Accuracy auf Trainingsdaten\", \"Accuracy\": 0.38999998569488525}, {\"Epoche\": 10, \"Legende\": \"Accuracy auf Trainingsdaten\", \"Accuracy\": 0.4399999976158142}, {\"Epoche\": 11, \"Legende\": \"Accuracy auf Trainingsdaten\", \"Accuracy\": 0.49000000953674316}, {\"Epoche\": 12, \"Legende\": \"Accuracy auf Trainingsdaten\", \"Accuracy\": 0.550000011920929}, {\"Epoche\": 13, \"Legende\": \"Accuracy auf Trainingsdaten\", \"Accuracy\": 0.5899999737739563}, {\"Epoche\": 14, \"Legende\": \"Accuracy auf Trainingsdaten\", \"Accuracy\": 0.6200000047683716}, {\"Epoche\": 15, \"Legende\": \"Accuracy auf Trainingsdaten\", \"Accuracy\": 0.6600000262260437}, {\"Epoche\": 16, \"Legende\": \"Accuracy auf Trainingsdaten\", \"Accuracy\": 0.6899999976158142}, {\"Epoche\": 17, \"Legende\": \"Accuracy auf Trainingsdaten\", \"Accuracy\": 0.7200000286102295}, {\"Epoche\": 18, \"Legende\": \"Accuracy auf Trainingsdaten\", \"Accuracy\": 0.7400000095367432}, {\"Epoche\": 19, \"Legende\": \"Accuracy auf Trainingsdaten\", \"Accuracy\": 0.75}, {\"Epoche\": 0, \"Legende\": \"Accuracy auf Testdaten\", \"Accuracy\": 0.08829999715089798}, {\"Epoche\": 1, \"Legende\": \"Accuracy auf Testdaten\", \"Accuracy\": 0.10490000247955322}, {\"Epoche\": 2, \"Legende\": \"Accuracy auf Testdaten\", \"Accuracy\": 0.12409999966621399}, {\"Epoche\": 3, \"Legende\": \"Accuracy auf Testdaten\", \"Accuracy\": 0.1412000060081482}, {\"Epoche\": 4, \"Legende\": \"Accuracy auf Testdaten\", \"Accuracy\": 0.16189999878406525}, {\"Epoche\": 5, \"Legende\": \"Accuracy auf Testdaten\", \"Accuracy\": 0.1826999932527542}, {\"Epoche\": 6, \"Legende\": \"Accuracy auf Testdaten\", \"Accuracy\": 0.2046000063419342}, {\"Epoche\": 7, \"Legende\": \"Accuracy auf Testdaten\", \"Accuracy\": 0.23489999771118164}, {\"Epoche\": 8, \"Legende\": \"Accuracy auf Testdaten\", \"Accuracy\": 0.2621000111103058}, {\"Epoche\": 9, \"Legende\": \"Accuracy auf Testdaten\", \"Accuracy\": 0.28519999980926514}, {\"Epoche\": 10, \"Legende\": \"Accuracy auf Testdaten\", \"Accuracy\": 0.30489999055862427}, {\"Epoche\": 11, \"Legende\": \"Accuracy auf Testdaten\", \"Accuracy\": 0.32710000872612}, {\"Epoche\": 12, \"Legende\": \"Accuracy auf Testdaten\", \"Accuracy\": 0.3490000069141388}, {\"Epoche\": 13, \"Legende\": \"Accuracy auf Testdaten\", \"Accuracy\": 0.3677999973297119}, {\"Epoche\": 14, \"Legende\": \"Accuracy auf Testdaten\", \"Accuracy\": 0.38440001010894775}, {\"Epoche\": 15, \"Legende\": \"Accuracy auf Testdaten\", \"Accuracy\": 0.4032000005245209}, {\"Epoche\": 16, \"Legende\": \"Accuracy auf Testdaten\", \"Accuracy\": 0.4205999970436096}, {\"Epoche\": 17, \"Legende\": \"Accuracy auf Testdaten\", \"Accuracy\": 0.43689998984336853}, {\"Epoche\": 18, \"Legende\": \"Accuracy auf Testdaten\", \"Accuracy\": 0.45489999651908875}, {\"Epoche\": 19, \"Legende\": \"Accuracy auf Testdaten\", \"Accuracy\": 0.4715000092983246}]}};\n",
       "const opt = {};\n",
       "const type = \"vega-lite\";\n",
       "const id = \"2d6f2920-8e5b-4a91-8b46-92107459d3db\";\n",
       "\n",
       "const output_area = this;\n",
       "\n",
       "require([\"nbextensions/jupyter-vega/index\"], function(vega) {\n",
       "  const target = document.createElement(\"div\");\n",
       "  target.id = id;\n",
       "  target.className = \"vega-embed\";\n",
       "\n",
       "  const style = document.createElement(\"style\");\n",
       "  style.textContent = [\n",
       "    \".vega-embed .error p {\",\n",
       "    \"  color: firebrick;\",\n",
       "    \"  font-size: 14px;\",\n",
       "    \"}\",\n",
       "  ].join(\"\\\\n\");\n",
       "\n",
       "  // element is a jQuery wrapped DOM element inside the output area\n",
       "  // see http://ipython.readthedocs.io/en/stable/api/generated/\\\n",
       "  // IPython.display.html#IPython.display.Javascript.__init__\n",
       "  element[0].appendChild(target);\n",
       "  element[0].appendChild(style);\n",
       "\n",
       "  vega.render(\"#\" + id, spec, type, opt, output_area);\n",
       "}, function (err) {\n",
       "  if (err.requireType !== \"scripterror\") {\n",
       "    throw(err);\n",
       "  }\n",
       "});\n"
      ],
      "text/plain": [
       "<vega.vegalite.VegaLite at 0x23b231134c8>"
      ]
     },
     "metadata": {
      "jupyter-vega": "#2d6f2920-8e5b-4a91-8b46-92107459d3db"
     },
     "output_type": "display_data"
    },
    {
     "data": {
      "text/plain": []
     },
     "execution_count": 18,
     "metadata": {},
     "output_type": "execute_result"
    },
    {
     "data": {
      "image/png": "[encoded data removed]"
     },
     "metadata": {
      "jupyter-vega": "#2d6f2920-8e5b-4a91-8b46-92107459d3db"
     },
     "output_type": "display_data"
    }
   ],
   "source": [
    "import altair as alt\n",
    "alt.renderers.enable('notebook')\n",
    "\n",
    "chart_loss = alt.Chart(df_loss).mark_line().encode(\n",
    "    x='Epoche', y='Loss', color='Legende')\n",
    "chart_accuracy = alt.Chart(df_accuracy).mark_line().encode(\n",
    "    x='Epoche', y='Accuracy', color='Legende')\n",
    "chart = chart_loss + chart_accuracy\n",
    "chart.resolve_scale(y='independent')"
   ]
  },
  {
   "cell_type": "code",
   "execution_count": 20,
   "metadata": {},
   "outputs": [
    {
     "name": "stdout",
     "output_type": "stream",
     "text": [
      "Model: \"sequential_2\"\n",
      "_________________________________________________________________\n",
      "Layer (type)                 Output Shape              Param #   \n",
      "=================================================================\n",
      "flatten_2 (Flatten)          (None, 784)               0         \n",
      "_________________________________________________________________\n",
      "dense_3 (Dense)              (None, 200)               157000    \n",
      "_________________________________________________________________\n",
      "dense_4 (Dense)              (None, 10)                2010      \n",
      "=================================================================\n",
      "Total params: 159,010\n",
      "Trainable params: 159,010\n",
      "Non-trainable params: 0\n",
      "_________________________________________________________________\n",
      "None\n"
     ]
    },
    {
     "data": {
      "image/svg+xml": [
       "<svg height=\"274pt\" viewBox=\"0.00 0.00 328.00 304.00\" width=\"296pt\" xmlns=\"http://www.w3.org/2000/svg\" xmlns:xlink=\"http://www.w3.org/1999/xlink\">\n",
       "<g class=\"graph\" id=\"graph0\" transform=\"scale(0.902778 0.902778) rotate(0) translate(4 300)\">\n",
       "<title>G</title>\n",
       "<polygon fill=\"white\" points=\"-4,4 -4,-300 324,-300 324,4 -4,4\" stroke=\"none\"/>\n",
       "<!-- 2453015720264 -->\n",
       "<g class=\"node\" id=\"node1\"><title>2453015720264</title>\n",
       "<polygon fill=\"none\" points=\"0,-249.5 0,-295.5 320,-295.5 320,-249.5 0,-249.5\" stroke=\"black\"/>\n",
       "<text font-family=\"Times New Roman,serif\" font-size=\"14.00\" text-anchor=\"middle\" x=\"83.5\" y=\"-268.8\">flatten_2_input: InputLayer</text>\n",
       "<polyline fill=\"none\" points=\"167,-249.5 167,-295.5 \" stroke=\"black\"/>\n",
       "<text font-family=\"Times New Roman,serif\" font-size=\"14.00\" text-anchor=\"middle\" x=\"195\" y=\"-280.3\">input:</text>\n",
       "<polyline fill=\"none\" points=\"167,-272.5 223,-272.5 \" stroke=\"black\"/>\n",
       "<text font-family=\"Times New Roman,serif\" font-size=\"14.00\" text-anchor=\"middle\" x=\"195\" y=\"-257.3\">output:</text>\n",
       "<polyline fill=\"none\" points=\"223,-249.5 223,-295.5 \" stroke=\"black\"/>\n",
       "<text font-family=\"Times New Roman,serif\" font-size=\"14.00\" text-anchor=\"middle\" x=\"271.5\" y=\"-280.3\">[(?, 28, 28, 1)]</text>\n",
       "<polyline fill=\"none\" points=\"223,-272.5 320,-272.5 \" stroke=\"black\"/>\n",
       "<text font-family=\"Times New Roman,serif\" font-size=\"14.00\" text-anchor=\"middle\" x=\"271.5\" y=\"-257.3\">[(?, 28, 28, 1)]</text>\n",
       "</g>\n",
       "<!-- 2453015751048 -->\n",
       "<g class=\"node\" id=\"node2\"><title>2453015751048</title>\n",
       "<polygon fill=\"none\" points=\"33.5,-166.5 33.5,-212.5 286.5,-212.5 286.5,-166.5 33.5,-166.5\" stroke=\"black\"/>\n",
       "<text font-family=\"Times New Roman,serif\" font-size=\"14.00\" text-anchor=\"middle\" x=\"88\" y=\"-185.8\">flatten_2: Flatten</text>\n",
       "<polyline fill=\"none\" points=\"142.5,-166.5 142.5,-212.5 \" stroke=\"black\"/>\n",
       "<text font-family=\"Times New Roman,serif\" font-size=\"14.00\" text-anchor=\"middle\" x=\"170.5\" y=\"-197.3\">input:</text>\n",
       "<polyline fill=\"none\" points=\"142.5,-189.5 198.5,-189.5 \" stroke=\"black\"/>\n",
       "<text font-family=\"Times New Roman,serif\" font-size=\"14.00\" text-anchor=\"middle\" x=\"170.5\" y=\"-174.3\">output:</text>\n",
       "<polyline fill=\"none\" points=\"198.5,-166.5 198.5,-212.5 \" stroke=\"black\"/>\n",
       "<text font-family=\"Times New Roman,serif\" font-size=\"14.00\" text-anchor=\"middle\" x=\"242.5\" y=\"-197.3\">(?, 28, 28, 1)</text>\n",
       "<polyline fill=\"none\" points=\"198.5,-189.5 286.5,-189.5 \" stroke=\"black\"/>\n",
       "<text font-family=\"Times New Roman,serif\" font-size=\"14.00\" text-anchor=\"middle\" x=\"242.5\" y=\"-174.3\">(?, 784)</text>\n",
       "</g>\n",
       "<!-- 2453015720264&#45;&gt;2453015751048 -->\n",
       "<g class=\"edge\" id=\"edge1\"><title>2453015720264-&gt;2453015751048</title>\n",
       "<path d=\"M160,-249.366C160,-241.152 160,-231.658 160,-222.725\" fill=\"none\" stroke=\"black\"/>\n",
       "<polygon fill=\"black\" points=\"163.5,-222.607 160,-212.607 156.5,-222.607 163.5,-222.607\" stroke=\"black\"/>\n",
       "</g>\n",
       "<!-- 2453015544712 -->\n",
       "<g class=\"node\" id=\"node3\"><title>2453015544712</title>\n",
       "<polygon fill=\"none\" points=\"50.5,-83.5 50.5,-129.5 269.5,-129.5 269.5,-83.5 50.5,-83.5\" stroke=\"black\"/>\n",
       "<text font-family=\"Times New Roman,serif\" font-size=\"14.00\" text-anchor=\"middle\" x=\"102.5\" y=\"-102.8\">dense_3: Dense</text>\n",
       "<polyline fill=\"none\" points=\"154.5,-83.5 154.5,-129.5 \" stroke=\"black\"/>\n",
       "<text font-family=\"Times New Roman,serif\" font-size=\"14.00\" text-anchor=\"middle\" x=\"182.5\" y=\"-114.3\">input:</text>\n",
       "<polyline fill=\"none\" points=\"154.5,-106.5 210.5,-106.5 \" stroke=\"black\"/>\n",
       "<text font-family=\"Times New Roman,serif\" font-size=\"14.00\" text-anchor=\"middle\" x=\"182.5\" y=\"-91.3\">output:</text>\n",
       "<polyline fill=\"none\" points=\"210.5,-83.5 210.5,-129.5 \" stroke=\"black\"/>\n",
       "<text font-family=\"Times New Roman,serif\" font-size=\"14.00\" text-anchor=\"middle\" x=\"240\" y=\"-114.3\">(?, 784)</text>\n",
       "<polyline fill=\"none\" points=\"210.5,-106.5 269.5,-106.5 \" stroke=\"black\"/>\n",
       "<text font-family=\"Times New Roman,serif\" font-size=\"14.00\" text-anchor=\"middle\" x=\"240\" y=\"-91.3\">(?, 200)</text>\n",
       "</g>\n",
       "<!-- 2453015751048&#45;&gt;2453015544712 -->\n",
       "<g class=\"edge\" id=\"edge2\"><title>2453015751048-&gt;2453015544712</title>\n",
       "<path d=\"M160,-166.366C160,-158.152 160,-148.658 160,-139.725\" fill=\"none\" stroke=\"black\"/>\n",
       "<polygon fill=\"black\" points=\"163.5,-139.607 160,-129.607 156.5,-139.607 163.5,-139.607\" stroke=\"black\"/>\n",
       "</g>\n",
       "<!-- 2453015943368 -->\n",
       "<g class=\"node\" id=\"node4\"><title>2453015943368</title>\n",
       "<polygon fill=\"none\" points=\"50.5,-0.5 50.5,-46.5 269.5,-46.5 269.5,-0.5 50.5,-0.5\" stroke=\"black\"/>\n",
       "<text font-family=\"Times New Roman,serif\" font-size=\"14.00\" text-anchor=\"middle\" x=\"102.5\" y=\"-19.8\">dense_4: Dense</text>\n",
       "<polyline fill=\"none\" points=\"154.5,-0.5 154.5,-46.5 \" stroke=\"black\"/>\n",
       "<text font-family=\"Times New Roman,serif\" font-size=\"14.00\" text-anchor=\"middle\" x=\"182.5\" y=\"-31.3\">input:</text>\n",
       "<polyline fill=\"none\" points=\"154.5,-23.5 210.5,-23.5 \" stroke=\"black\"/>\n",
       "<text font-family=\"Times New Roman,serif\" font-size=\"14.00\" text-anchor=\"middle\" x=\"182.5\" y=\"-8.3\">output:</text>\n",
       "<polyline fill=\"none\" points=\"210.5,-0.5 210.5,-46.5 \" stroke=\"black\"/>\n",
       "<text font-family=\"Times New Roman,serif\" font-size=\"14.00\" text-anchor=\"middle\" x=\"240\" y=\"-31.3\">(?, 200)</text>\n",
       "<polyline fill=\"none\" points=\"210.5,-23.5 269.5,-23.5 \" stroke=\"black\"/>\n",
       "<text font-family=\"Times New Roman,serif\" font-size=\"14.00\" text-anchor=\"middle\" x=\"240\" y=\"-8.3\">(?, 10)</text>\n",
       "</g>\n",
       "<!-- 2453015544712&#45;&gt;2453015943368 -->\n",
       "<g class=\"edge\" id=\"edge3\"><title>2453015544712-&gt;2453015943368</title>\n",
       "<path d=\"M160,-83.3664C160,-75.1516 160,-65.6579 160,-56.7252\" fill=\"none\" stroke=\"black\"/>\n",
       "<polygon fill=\"black\" points=\"163.5,-56.6068 160,-46.6068 156.5,-56.6069 163.5,-56.6068\" stroke=\"black\"/>\n",
       "</g>\n",
       "</g>\n",
       "</svg>"
      ],
      "text/plain": [
       "<IPython.core.display.SVG object>"
      ]
     },
     "execution_count": 20,
     "metadata": {},
     "output_type": "execute_result"
    }
   ],
   "source": [
    "model = Sequential()\n",
    "model.add(Flatten(input_shape=input_shape))\n",
    "model.add(Dense(200, activation='relu'))\n",
    "model.add(Dense(num_classes, activation='softmax'))\n",
    "print(model.summary())\n",
    "SVG(model_to_dot(model, show_shapes=True, dpi=65).create(prog='dot', format='svg'))"
   ]
  },
  {
   "cell_type": "code",
   "execution_count": 21,
   "metadata": {},
   "outputs": [
    {
     "name": "stdout",
     "output_type": "stream",
     "text": [
      "Train on 100 samples, validate on 10000 samples\n",
      "Epoch 1/20\n",
      "100/100 [==============================] - 1s 7ms/sample - loss: 2.2089 - accuracy: 0.2000 - val_loss: 2.1682 - val_accuracy: 0.2434\n",
      "Epoch 2/20\n",
      "100/100 [==============================] - 1s 8ms/sample - loss: 1.9490 - accuracy: 0.4700 - val_loss: 2.0485 - val_accuracy: 0.3630\n",
      "Epoch 3/20\n",
      "100/100 [==============================] - 1s 6ms/sample - loss: 1.7316 - accuracy: 0.6600 - val_loss: 1.9474 - val_accuracy: 0.4203\n",
      "Epoch 4/20\n",
      "100/100 [==============================] - 1s 9ms/sample - loss: 1.5429 - accuracy: 0.7600 - val_loss: 1.8580 - val_accuracy: 0.4572\n",
      "Epoch 5/20\n",
      "100/100 [==============================] - 1s 9ms/sample - loss: 1.3778 - accuracy: 0.8200 - val_loss: 1.7741 - val_accuracy: 0.4909\n",
      "Epoch 6/20\n",
      "100/100 [==============================] - 1s 5ms/sample - loss: 1.2269 - accuracy: 0.8900 - val_loss: 1.6917 - val_accuracy: 0.5247\n",
      "Epoch 7/20\n",
      "100/100 [==============================] - 1s 9ms/sample - loss: 1.0861 - accuracy: 0.8900 - val_loss: 1.6106 - val_accuracy: 0.5578\n",
      "Epoch 8/20\n",
      "100/100 [==============================] - 1s 9ms/sample - loss: 0.9560 - accuracy: 0.9200 - val_loss: 1.5329 - val_accuracy: 0.5819\n",
      "Epoch 9/20\n",
      "100/100 [==============================] - 1s 8ms/sample - loss: 0.8383 - accuracy: 0.9300 - val_loss: 1.4613 - val_accuracy: 0.6060\n",
      "Epoch 10/20\n",
      "100/100 [==============================] - 1s 5ms/sample - loss: 0.7332 - accuracy: 0.9300 - val_loss: 1.3981 - val_accuracy: 0.6217\n",
      "Epoch 11/20\n",
      "100/100 [==============================] - 1s 5ms/sample - loss: 0.6405 - accuracy: 0.9400 - val_loss: 1.3438 - val_accuracy: 0.6325\n",
      "Epoch 12/20\n",
      "100/100 [==============================] - 1s 6ms/sample - loss: 0.5602 - accuracy: 0.9500 - val_loss: 1.2984 - val_accuracy: 0.6416\n",
      "Epoch 13/20\n",
      "100/100 [==============================] - 1s 7ms/sample - loss: 0.4899 - accuracy: 0.9500 - val_loss: 1.2611 - val_accuracy: 0.6460\n",
      "Epoch 14/20\n",
      "100/100 [==============================] - 0s 5ms/sample - loss: 0.4283 - accuracy: 0.9500 - val_loss: 1.2308 - val_accuracy: 0.6497\n",
      "Epoch 15/20\n",
      "100/100 [==============================] - 1s 7ms/sample - loss: 0.3744 - accuracy: 0.9600 - val_loss: 1.2066 - val_accuracy: 0.6516\n",
      "Epoch 16/20\n",
      "100/100 [==============================] - 1s 7ms/sample - loss: 0.3273 - accuracy: 0.9700 - val_loss: 1.1875 - val_accuracy: 0.6543\n",
      "Epoch 17/20\n",
      "100/100 [==============================] - 1s 7ms/sample - loss: 0.2861 - accuracy: 0.9700 - val_loss: 1.1728 - val_accuracy: 0.6540\n",
      "Epoch 18/20\n",
      "100/100 [==============================] - 0s 5ms/sample - loss: 0.2500 - accuracy: 0.9800 - val_loss: 1.1617 - val_accuracy: 0.6568\n",
      "Epoch 19/20\n",
      "100/100 [==============================] - 1s 5ms/sample - loss: 0.2186 - accuracy: 0.9800 - val_loss: 1.1537 - val_accuracy: 0.6586\n",
      "Epoch 20/20\n",
      "100/100 [==============================] - 1s 7ms/sample - loss: 0.1913 - accuracy: 0.9900 - val_loss: 1.1481 - val_accuracy: 0.6599\n"
     ]
    }
   ],
   "source": [
    "model.compile(loss=categorical_crossentropy,\n",
    "              optimizer=Adam(),\n",
    "              metrics=['accuracy'])\n",
    "\n",
    "history = model.fit(\n",
    "    x_train, y_train,\n",
    "    batch_size=batch_size,\n",
    "    epochs=epochs,\n",
    "    verbose=1,\n",
    "    validation_data=(x_test, y_test)\n",
    ")"
   ]
  },
  {
   "cell_type": "code",
   "execution_count": 22,
   "metadata": {},
   "outputs": [],
   "source": [
    "def evaluate(model, history):\n",
    "    score = model.evaluate(x_test, y_test, verbose=0)\n",
    "    print('Test loss:', score[0])\n",
    "    print('Test accuracy:', score[1])\n",
    "    \n",
    "    df_loss = DataFrame(data={\n",
    "        'Epoche': history.epoch * 2,\n",
    "        'Legende': ['Loss auf Trainingsdaten'] * len(history.epoch) + ['Loss auf Testdaten'] * len(history.epoch),\n",
    "        'Loss': history.history['loss'] + history.history['val_loss']\n",
    "    })\n",
    "    df_accuracy = DataFrame(data={\n",
    "        'Epoche': history.epoch * 2,\n",
    "        'Legende': ['Accuracy auf Trainingsdaten'] * len(history.epoch) + ['Accuracy auf Testdaten'] * len(history.epoch),\n",
    "        'Accuracy': history.history['accuracy'] + history.history['val_accuracy']\n",
    "    })\n",
    "    chart_loss = alt.Chart(df_loss).mark_line().encode(\n",
    "        x='Epoche', y='Loss', color='Legende')\n",
    "    chart_accuracy = alt.Chart(df_accuracy).mark_line().encode(\n",
    "        x='Epoche', y='Accuracy', color='Legende')\n",
    "    chart = chart_loss + chart_accuracy\n",
    "    return chart.resolve_scale(y='independent')"
   ]
  },
  {
   "cell_type": "code",
   "execution_count": 23,
   "metadata": {},
   "outputs": [
    {
     "name": "stdout",
     "output_type": "stream",
     "text": [
      "Test loss: 1.1480867706298827\n",
      "Test accuracy: 0.6599\n"
     ]
    },
    {
     "data": {
      "application/javascript": [
       "const spec = {\"config\": {\"view\": {\"width\": 400, \"height\": 300}, \"mark\": {\"tooltip\": null}}, \"layer\": [{\"data\": {\"name\": \"data-1a729f3529033c0b14270ae6c4e0db9d\"}, \"mark\": \"line\", \"encoding\": {\"color\": {\"type\": \"nominal\", \"field\": \"Legende\"}, \"x\": {\"type\": \"quantitative\", \"field\": \"Epoche\"}, \"y\": {\"type\": \"quantitative\", \"field\": \"Loss\"}}}, {\"data\": {\"name\": \"data-a5979796660cb1c3b63cedb81cc9ccda\"}, \"mark\": \"line\", \"encoding\": {\"color\": {\"type\": \"nominal\", \"field\": \"Legende\"}, \"x\": {\"type\": \"quantitative\", \"field\": \"Epoche\"}, \"y\": {\"type\": \"quantitative\", \"field\": \"Accuracy\"}}}], \"resolve\": {\"scale\": {\"y\": \"independent\"}}, \"$schema\": \"https://vega.github.io/schema/vega-lite/v3.4.0.json\", \"datasets\": {\"data-1a729f3529033c0b14270ae6c4e0db9d\": [{\"Epoche\": 0, \"Legende\": \"Loss auf Trainingsdaten\", \"Loss\": 2.208935022354126}, {\"Epoche\": 1, \"Legende\": \"Loss auf Trainingsdaten\", \"Loss\": 1.9489772319793701}, {\"Epoche\": 2, \"Legende\": \"Loss auf Trainingsdaten\", \"Loss\": 1.7316277027130127}, {\"Epoche\": 3, \"Legende\": \"Loss auf Trainingsdaten\", \"Loss\": 1.5429283380508423}, {\"Epoche\": 4, \"Legende\": \"Loss auf Trainingsdaten\", \"Loss\": 1.3777542114257812}, {\"Epoche\": 5, \"Legende\": \"Loss auf Trainingsdaten\", \"Loss\": 1.2269032001495361}, {\"Epoche\": 6, \"Legende\": \"Loss auf Trainingsdaten\", \"Loss\": 1.086125373840332}, {\"Epoche\": 7, \"Legende\": \"Loss auf Trainingsdaten\", \"Loss\": 0.9560370445251465}, {\"Epoche\": 8, \"Legende\": \"Loss auf Trainingsdaten\", \"Loss\": 0.8383246660232544}, {\"Epoche\": 9, \"Legende\": \"Loss auf Trainingsdaten\", \"Loss\": 0.7332351803779602}, {\"Epoche\": 10, \"Legende\": \"Loss auf Trainingsdaten\", \"Loss\": 0.6405279636383057}, {\"Epoche\": 11, \"Legende\": \"Loss auf Trainingsdaten\", \"Loss\": 0.5602362155914307}, {\"Epoche\": 12, \"Legende\": \"Loss auf Trainingsdaten\", \"Loss\": 0.48991069197654724}, {\"Epoche\": 13, \"Legende\": \"Loss auf Trainingsdaten\", \"Loss\": 0.4282538890838623}, {\"Epoche\": 14, \"Legende\": \"Loss auf Trainingsdaten\", \"Loss\": 0.3743961453437805}, {\"Epoche\": 15, \"Legende\": \"Loss auf Trainingsdaten\", \"Loss\": 0.32726380228996277}, {\"Epoche\": 16, \"Legende\": \"Loss auf Trainingsdaten\", \"Loss\": 0.2860514521598816}, {\"Epoche\": 17, \"Legende\": \"Loss auf Trainingsdaten\", \"Loss\": 0.2500106692314148}, {\"Epoche\": 18, \"Legende\": \"Loss auf Trainingsdaten\", \"Loss\": 0.21860571205615997}, {\"Epoche\": 19, \"Legende\": \"Loss auf Trainingsdaten\", \"Loss\": 0.19128859043121338}, {\"Epoche\": 0, \"Legende\": \"Loss auf Testdaten\", \"Loss\": 2.1681901805877684}, {\"Epoche\": 1, \"Legende\": \"Loss auf Testdaten\", \"Loss\": 2.0485040811538697}, {\"Epoche\": 2, \"Legende\": \"Loss auf Testdaten\", \"Loss\": 1.947367185974121}, {\"Epoche\": 3, \"Legende\": \"Loss auf Testdaten\", \"Loss\": 1.8580273567199708}, {\"Epoche\": 4, \"Legende\": \"Loss auf Testdaten\", \"Loss\": 1.7740769618988037}, {\"Epoche\": 5, \"Legende\": \"Loss auf Testdaten\", \"Loss\": 1.6916882820129395}, {\"Epoche\": 6, \"Legende\": \"Loss auf Testdaten\", \"Loss\": 1.6106172290802}, {\"Epoche\": 7, \"Legende\": \"Loss auf Testdaten\", \"Loss\": 1.5328742458343505}, {\"Epoche\": 8, \"Legende\": \"Loss auf Testdaten\", \"Loss\": 1.4613241600036622}, {\"Epoche\": 9, \"Legende\": \"Loss auf Testdaten\", \"Loss\": 1.3980985832214357}, {\"Epoche\": 10, \"Legende\": \"Loss auf Testdaten\", \"Loss\": 1.3437575551986694}, {\"Epoche\": 11, \"Legende\": \"Loss auf Testdaten\", \"Loss\": 1.2983738386154176}, {\"Epoche\": 12, \"Legende\": \"Loss auf Testdaten\", \"Loss\": 1.2610576519966126}, {\"Epoche\": 13, \"Legende\": \"Loss auf Testdaten\", \"Loss\": 1.230759930896759}, {\"Epoche\": 14, \"Legende\": \"Loss auf Testdaten\", \"Loss\": 1.2065813863754273}, {\"Epoche\": 15, \"Legende\": \"Loss auf Testdaten\", \"Loss\": 1.1874824745178223}, {\"Epoche\": 16, \"Legende\": \"Loss auf Testdaten\", \"Loss\": 1.1727507031440736}, {\"Epoche\": 17, \"Legende\": \"Loss auf Testdaten\", \"Loss\": 1.16171289768219}, {\"Epoche\": 18, \"Legende\": \"Loss auf Testdaten\", \"Loss\": 1.1537235297203063}, {\"Epoche\": 19, \"Legende\": \"Loss auf Testdaten\", \"Loss\": 1.1480867665290833}], \"data-a5979796660cb1c3b63cedb81cc9ccda\": [{\"Epoche\": 0, \"Legende\": \"Accuracy auf Trainingsdaten\", \"Accuracy\": 0.20000000298023224}, {\"Epoche\": 1, \"Legende\": \"Accuracy auf Trainingsdaten\", \"Accuracy\": 0.4699999988079071}, {\"Epoche\": 2, \"Legende\": \"Accuracy auf Trainingsdaten\", \"Accuracy\": 0.6600000262260437}, {\"Epoche\": 3, \"Legende\": \"Accuracy auf Trainingsdaten\", \"Accuracy\": 0.7599999904632568}, {\"Epoche\": 4, \"Legende\": \"Accuracy auf Trainingsdaten\", \"Accuracy\": 0.8199999928474426}, {\"Epoche\": 5, \"Legende\": \"Accuracy auf Trainingsdaten\", \"Accuracy\": 0.8899999856948853}, {\"Epoche\": 6, \"Legende\": \"Accuracy auf Trainingsdaten\", \"Accuracy\": 0.8899999856948853}, {\"Epoche\": 7, \"Legende\": \"Accuracy auf Trainingsdaten\", \"Accuracy\": 0.9200000166893005}, {\"Epoche\": 8, \"Legende\": \"Accuracy auf Trainingsdaten\", \"Accuracy\": 0.9300000071525574}, {\"Epoche\": 9, \"Legende\": \"Accuracy auf Trainingsdaten\", \"Accuracy\": 0.9300000071525574}, {\"Epoche\": 10, \"Legende\": \"Accuracy auf Trainingsdaten\", \"Accuracy\": 0.9399999976158142}, {\"Epoche\": 11, \"Legende\": \"Accuracy auf Trainingsdaten\", \"Accuracy\": 0.949999988079071}, {\"Epoche\": 12, \"Legende\": \"Accuracy auf Trainingsdaten\", \"Accuracy\": 0.949999988079071}, {\"Epoche\": 13, \"Legende\": \"Accuracy auf Trainingsdaten\", \"Accuracy\": 0.949999988079071}, {\"Epoche\": 14, \"Legende\": \"Accuracy auf Trainingsdaten\", \"Accuracy\": 0.9599999785423279}, {\"Epoche\": 15, \"Legende\": \"Accuracy auf Trainingsdaten\", \"Accuracy\": 0.9700000286102295}, {\"Epoche\": 16, \"Legende\": \"Accuracy auf Trainingsdaten\", \"Accuracy\": 0.9700000286102295}, {\"Epoche\": 17, \"Legende\": \"Accuracy auf Trainingsdaten\", \"Accuracy\": 0.9800000190734863}, {\"Epoche\": 18, \"Legende\": \"Accuracy auf Trainingsdaten\", \"Accuracy\": 0.9800000190734863}, {\"Epoche\": 19, \"Legende\": \"Accuracy auf Trainingsdaten\", \"Accuracy\": 0.9900000095367432}, {\"Epoche\": 0, \"Legende\": \"Accuracy auf Testdaten\", \"Accuracy\": 0.2433999925851822}, {\"Epoche\": 1, \"Legende\": \"Accuracy auf Testdaten\", \"Accuracy\": 0.3630000054836273}, {\"Epoche\": 2, \"Legende\": \"Accuracy auf Testdaten\", \"Accuracy\": 0.4203000068664551}, {\"Epoche\": 3, \"Legende\": \"Accuracy auf Testdaten\", \"Accuracy\": 0.45719999074935913}, {\"Epoche\": 4, \"Legende\": \"Accuracy auf Testdaten\", \"Accuracy\": 0.4909000098705292}, {\"Epoche\": 5, \"Legende\": \"Accuracy auf Testdaten\", \"Accuracy\": 0.5246999859809875}, {\"Epoche\": 6, \"Legende\": \"Accuracy auf Testdaten\", \"Accuracy\": 0.5577999949455261}, {\"Epoche\": 7, \"Legende\": \"Accuracy auf Testdaten\", \"Accuracy\": 0.5819000005722046}, {\"Epoche\": 8, \"Legende\": \"Accuracy auf Testdaten\", \"Accuracy\": 0.6060000061988831}, {\"Epoche\": 9, \"Legende\": \"Accuracy auf Testdaten\", \"Accuracy\": 0.6216999888420105}, {\"Epoche\": 10, \"Legende\": \"Accuracy auf Testdaten\", \"Accuracy\": 0.6324999928474426}, {\"Epoche\": 11, \"Legende\": \"Accuracy auf Testdaten\", \"Accuracy\": 0.6416000127792358}, {\"Epoche\": 12, \"Legende\": \"Accuracy auf Testdaten\", \"Accuracy\": 0.6460000276565552}, {\"Epoche\": 13, \"Legende\": \"Accuracy auf Testdaten\", \"Accuracy\": 0.6496999859809875}, {\"Epoche\": 14, \"Legende\": \"Accuracy auf Testdaten\", \"Accuracy\": 0.6516000032424927}, {\"Epoche\": 15, \"Legende\": \"Accuracy auf Testdaten\", \"Accuracy\": 0.6542999744415283}, {\"Epoche\": 16, \"Legende\": \"Accuracy auf Testdaten\", \"Accuracy\": 0.6539999842643738}, {\"Epoche\": 17, \"Legende\": \"Accuracy auf Testdaten\", \"Accuracy\": 0.6567999720573425}, {\"Epoche\": 18, \"Legende\": \"Accuracy auf Testdaten\", \"Accuracy\": 0.6585999727249146}, {\"Epoche\": 19, \"Legende\": \"Accuracy auf Testdaten\", \"Accuracy\": 0.6599000096321106}]}};\n",
       "const opt = {};\n",
       "const type = \"vega-lite\";\n",
       "const id = \"df256a77-1911-4630-b63c-43ba4347a98b\";\n",
       "\n",
       "const output_area = this;\n",
       "\n",
       "require([\"nbextensions/jupyter-vega/index\"], function(vega) {\n",
       "  const target = document.createElement(\"div\");\n",
       "  target.id = id;\n",
       "  target.className = \"vega-embed\";\n",
       "\n",
       "  const style = document.createElement(\"style\");\n",
       "  style.textContent = [\n",
       "    \".vega-embed .error p {\",\n",
       "    \"  color: firebrick;\",\n",
       "    \"  font-size: 14px;\",\n",
       "    \"}\",\n",
       "  ].join(\"\\\\n\");\n",
       "\n",
       "  // element is a jQuery wrapped DOM element inside the output area\n",
       "  // see http://ipython.readthedocs.io/en/stable/api/generated/\\\n",
       "  // IPython.display.html#IPython.display.Javascript.__init__\n",
       "  element[0].appendChild(target);\n",
       "  element[0].appendChild(style);\n",
       "\n",
       "  vega.render(\"#\" + id, spec, type, opt, output_area);\n",
       "}, function (err) {\n",
       "  if (err.requireType !== \"scripterror\") {\n",
       "    throw(err);\n",
       "  }\n",
       "});\n"
      ],
      "text/plain": [
       "<vega.vegalite.VegaLite at 0x23b24c19fc8>"
      ]
     },
     "metadata": {
      "jupyter-vega": "#df256a77-1911-4630-b63c-43ba4347a98b"
     },
     "output_type": "display_data"
    },
    {
     "data": {
      "text/plain": []
     },
     "execution_count": 23,
     "metadata": {},
     "output_type": "execute_result"
    },
    {
     "data": {
      "image/png": "[encoded data removed]"
     },
     "metadata": {
      "jupyter-vega": "#df256a77-1911-4630-b63c-43ba4347a98b"
     },
     "output_type": "display_data"
    }
   ],
   "source": [
    "evaluate(model, history)"
   ]
  },
  {
   "cell_type": "code",
   "execution_count": 24,
   "metadata": {},
   "outputs": [],
   "source": [
    "(x_train, y_train), (x_test, y_test) = mnist.load_data()\n",
    "\n",
    "train_size = x_train.shape[0]\n",
    "test_size = x_test.shape[0]\n",
    "\n",
    "data_format = K.image_data_format()\n",
    "if data_format == 'channels_first':\n",
    "    x_train = x_train.reshape(train_size, 1, rows, cols)\n",
    "    x_test = x_test.reshape(test_size, 1, rows, cols)\n",
    "    input_shape = (1, rows, cols)\n",
    "else:\n",
    "    x_train = x_train.reshape(train_size, rows, cols, 1)\n",
    "    x_test = x_test.reshape(test_size, rows, cols, 1)\n",
    "    input_shape = (rows, cols, 1)\n",
    "    \n",
    "# norm data to float in range 0..1\n",
    "x_train = x_train.astype('float32')\n",
    "x_test = x_test.astype('float32')\n",
    "x_train /= 255\n",
    "x_test /= 255\n",
    "\n",
    "# convert class vectors to one hot vector\n",
    "y_train = to_categorical(y_train, 10)\n",
    "y_test = to_categorical(y_test, 10)"
   ]
  },
  {
   "cell_type": "code",
   "execution_count": 25,
   "metadata": {},
   "outputs": [
    {
     "name": "stdout",
     "output_type": "stream",
     "text": [
      "Model: \"sequential_3\"\n",
      "_________________________________________________________________\n",
      "Layer (type)                 Output Shape              Param #   \n",
      "=================================================================\n",
      "flatten_3 (Flatten)          (None, 784)               0         \n",
      "_________________________________________________________________\n",
      "dense_5 (Dense)              (None, 200)               157000    \n",
      "_________________________________________________________________\n",
      "dropout (Dropout)            (None, 200)               0         \n",
      "_________________________________________________________________\n",
      "dense_6 (Dense)              (None, 10)                2010      \n",
      "=================================================================\n",
      "Total params: 159,010\n",
      "Trainable params: 159,010\n",
      "Non-trainable params: 0\n",
      "_________________________________________________________________\n",
      "None\n"
     ]
    },
    {
     "data": {
      "image/svg+xml": [
       "<svg height=\"349pt\" viewBox=\"0.00 0.00 328.00 387.00\" width=\"296pt\" xmlns=\"http://www.w3.org/2000/svg\" xmlns:xlink=\"http://www.w3.org/1999/xlink\">\n",
       "<g class=\"graph\" id=\"graph0\" transform=\"scale(0.902778 0.902778) rotate(0) translate(4 383)\">\n",
       "<title>G</title>\n",
       "<polygon fill=\"white\" points=\"-4,4 -4,-383 324,-383 324,4 -4,4\" stroke=\"none\"/>\n",
       "<!-- 2453043010824 -->\n",
       "<g class=\"node\" id=\"node1\"><title>2453043010824</title>\n",
       "<polygon fill=\"none\" points=\"0,-332.5 0,-378.5 320,-378.5 320,-332.5 0,-332.5\" stroke=\"black\"/>\n",
       "<text font-family=\"Times New Roman,serif\" font-size=\"14.00\" text-anchor=\"middle\" x=\"83.5\" y=\"-351.8\">flatten_3_input: InputLayer</text>\n",
       "<polyline fill=\"none\" points=\"167,-332.5 167,-378.5 \" stroke=\"black\"/>\n",
       "<text font-family=\"Times New Roman,serif\" font-size=\"14.00\" text-anchor=\"middle\" x=\"195\" y=\"-363.3\">input:</text>\n",
       "<polyline fill=\"none\" points=\"167,-355.5 223,-355.5 \" stroke=\"black\"/>\n",
       "<text font-family=\"Times New Roman,serif\" font-size=\"14.00\" text-anchor=\"middle\" x=\"195\" y=\"-340.3\">output:</text>\n",
       "<polyline fill=\"none\" points=\"223,-332.5 223,-378.5 \" stroke=\"black\"/>\n",
       "<text font-family=\"Times New Roman,serif\" font-size=\"14.00\" text-anchor=\"middle\" x=\"271.5\" y=\"-363.3\">[(?, 28, 28, 1)]</text>\n",
       "<polyline fill=\"none\" points=\"223,-355.5 320,-355.5 \" stroke=\"black\"/>\n",
       "<text font-family=\"Times New Roman,serif\" font-size=\"14.00\" text-anchor=\"middle\" x=\"271.5\" y=\"-340.3\">[(?, 28, 28, 1)]</text>\n",
       "</g>\n",
       "<!-- 2453043008520 -->\n",
       "<g class=\"node\" id=\"node2\"><title>2453043008520</title>\n",
       "<polygon fill=\"none\" points=\"33.5,-249.5 33.5,-295.5 286.5,-295.5 286.5,-249.5 33.5,-249.5\" stroke=\"black\"/>\n",
       "<text font-family=\"Times New Roman,serif\" font-size=\"14.00\" text-anchor=\"middle\" x=\"88\" y=\"-268.8\">flatten_3: Flatten</text>\n",
       "<polyline fill=\"none\" points=\"142.5,-249.5 142.5,-295.5 \" stroke=\"black\"/>\n",
       "<text font-family=\"Times New Roman,serif\" font-size=\"14.00\" text-anchor=\"middle\" x=\"170.5\" y=\"-280.3\">input:</text>\n",
       "<polyline fill=\"none\" points=\"142.5,-272.5 198.5,-272.5 \" stroke=\"black\"/>\n",
       "<text font-family=\"Times New Roman,serif\" font-size=\"14.00\" text-anchor=\"middle\" x=\"170.5\" y=\"-257.3\">output:</text>\n",
       "<polyline fill=\"none\" points=\"198.5,-249.5 198.5,-295.5 \" stroke=\"black\"/>\n",
       "<text font-family=\"Times New Roman,serif\" font-size=\"14.00\" text-anchor=\"middle\" x=\"242.5\" y=\"-280.3\">(?, 28, 28, 1)</text>\n",
       "<polyline fill=\"none\" points=\"198.5,-272.5 286.5,-272.5 \" stroke=\"black\"/>\n",
       "<text font-family=\"Times New Roman,serif\" font-size=\"14.00\" text-anchor=\"middle\" x=\"242.5\" y=\"-257.3\">(?, 784)</text>\n",
       "</g>\n",
       "<!-- 2453043010824&#45;&gt;2453043008520 -->\n",
       "<g class=\"edge\" id=\"edge1\"><title>2453043010824-&gt;2453043008520</title>\n",
       "<path d=\"M160,-332.366C160,-324.152 160,-314.658 160,-305.725\" fill=\"none\" stroke=\"black\"/>\n",
       "<polygon fill=\"black\" points=\"163.5,-305.607 160,-295.607 156.5,-305.607 163.5,-305.607\" stroke=\"black\"/>\n",
       "</g>\n",
       "<!-- 2453043011144 -->\n",
       "<g class=\"node\" id=\"node3\"><title>2453043011144</title>\n",
       "<polygon fill=\"none\" points=\"50.5,-166.5 50.5,-212.5 269.5,-212.5 269.5,-166.5 50.5,-166.5\" stroke=\"black\"/>\n",
       "<text font-family=\"Times New Roman,serif\" font-size=\"14.00\" text-anchor=\"middle\" x=\"102.5\" y=\"-185.8\">dense_5: Dense</text>\n",
       "<polyline fill=\"none\" points=\"154.5,-166.5 154.5,-212.5 \" stroke=\"black\"/>\n",
       "<text font-family=\"Times New Roman,serif\" font-size=\"14.00\" text-anchor=\"middle\" x=\"182.5\" y=\"-197.3\">input:</text>\n",
       "<polyline fill=\"none\" points=\"154.5,-189.5 210.5,-189.5 \" stroke=\"black\"/>\n",
       "<text font-family=\"Times New Roman,serif\" font-size=\"14.00\" text-anchor=\"middle\" x=\"182.5\" y=\"-174.3\">output:</text>\n",
       "<polyline fill=\"none\" points=\"210.5,-166.5 210.5,-212.5 \" stroke=\"black\"/>\n",
       "<text font-family=\"Times New Roman,serif\" font-size=\"14.00\" text-anchor=\"middle\" x=\"240\" y=\"-197.3\">(?, 784)</text>\n",
       "<polyline fill=\"none\" points=\"210.5,-189.5 269.5,-189.5 \" stroke=\"black\"/>\n",
       "<text font-family=\"Times New Roman,serif\" font-size=\"14.00\" text-anchor=\"middle\" x=\"240\" y=\"-174.3\">(?, 200)</text>\n",
       "</g>\n",
       "<!-- 2453043008520&#45;&gt;2453043011144 -->\n",
       "<g class=\"edge\" id=\"edge2\"><title>2453043008520-&gt;2453043011144</title>\n",
       "<path d=\"M160,-249.366C160,-241.152 160,-231.658 160,-222.725\" fill=\"none\" stroke=\"black\"/>\n",
       "<polygon fill=\"black\" points=\"163.5,-222.607 160,-212.607 156.5,-222.607 163.5,-222.607\" stroke=\"black\"/>\n",
       "</g>\n",
       "<!-- 2453043001928 -->\n",
       "<g class=\"node\" id=\"node4\"><title>2453043001928</title>\n",
       "<polygon fill=\"none\" points=\"44.5,-83.5 44.5,-129.5 275.5,-129.5 275.5,-83.5 44.5,-83.5\" stroke=\"black\"/>\n",
       "<text font-family=\"Times New Roman,serif\" font-size=\"14.00\" text-anchor=\"middle\" x=\"102.5\" y=\"-102.8\">dropout: Dropout</text>\n",
       "<polyline fill=\"none\" points=\"160.5,-83.5 160.5,-129.5 \" stroke=\"black\"/>\n",
       "<text font-family=\"Times New Roman,serif\" font-size=\"14.00\" text-anchor=\"middle\" x=\"188.5\" y=\"-114.3\">input:</text>\n",
       "<polyline fill=\"none\" points=\"160.5,-106.5 216.5,-106.5 \" stroke=\"black\"/>\n",
       "<text font-family=\"Times New Roman,serif\" font-size=\"14.00\" text-anchor=\"middle\" x=\"188.5\" y=\"-91.3\">output:</text>\n",
       "<polyline fill=\"none\" points=\"216.5,-83.5 216.5,-129.5 \" stroke=\"black\"/>\n",
       "<text font-family=\"Times New Roman,serif\" font-size=\"14.00\" text-anchor=\"middle\" x=\"246\" y=\"-114.3\">(?, 200)</text>\n",
       "<polyline fill=\"none\" points=\"216.5,-106.5 275.5,-106.5 \" stroke=\"black\"/>\n",
       "<text font-family=\"Times New Roman,serif\" font-size=\"14.00\" text-anchor=\"middle\" x=\"246\" y=\"-91.3\">(?, 200)</text>\n",
       "</g>\n",
       "<!-- 2453043011144&#45;&gt;2453043001928 -->\n",
       "<g class=\"edge\" id=\"edge3\"><title>2453043011144-&gt;2453043001928</title>\n",
       "<path d=\"M160,-166.366C160,-158.152 160,-148.658 160,-139.725\" fill=\"none\" stroke=\"black\"/>\n",
       "<polygon fill=\"black\" points=\"163.5,-139.607 160,-129.607 156.5,-139.607 163.5,-139.607\" stroke=\"black\"/>\n",
       "</g>\n",
       "<!-- 2453043168328 -->\n",
       "<g class=\"node\" id=\"node5\"><title>2453043168328</title>\n",
       "<polygon fill=\"none\" points=\"50.5,-0.5 50.5,-46.5 269.5,-46.5 269.5,-0.5 50.5,-0.5\" stroke=\"black\"/>\n",
       "<text font-family=\"Times New Roman,serif\" font-size=\"14.00\" text-anchor=\"middle\" x=\"102.5\" y=\"-19.8\">dense_6: Dense</text>\n",
       "<polyline fill=\"none\" points=\"154.5,-0.5 154.5,-46.5 \" stroke=\"black\"/>\n",
       "<text font-family=\"Times New Roman,serif\" font-size=\"14.00\" text-anchor=\"middle\" x=\"182.5\" y=\"-31.3\">input:</text>\n",
       "<polyline fill=\"none\" points=\"154.5,-23.5 210.5,-23.5 \" stroke=\"black\"/>\n",
       "<text font-family=\"Times New Roman,serif\" font-size=\"14.00\" text-anchor=\"middle\" x=\"182.5\" y=\"-8.3\">output:</text>\n",
       "<polyline fill=\"none\" points=\"210.5,-0.5 210.5,-46.5 \" stroke=\"black\"/>\n",
       "<text font-family=\"Times New Roman,serif\" font-size=\"14.00\" text-anchor=\"middle\" x=\"240\" y=\"-31.3\">(?, 200)</text>\n",
       "<polyline fill=\"none\" points=\"210.5,-23.5 269.5,-23.5 \" stroke=\"black\"/>\n",
       "<text font-family=\"Times New Roman,serif\" font-size=\"14.00\" text-anchor=\"middle\" x=\"240\" y=\"-8.3\">(?, 10)</text>\n",
       "</g>\n",
       "<!-- 2453043001928&#45;&gt;2453043168328 -->\n",
       "<g class=\"edge\" id=\"edge4\"><title>2453043001928-&gt;2453043168328</title>\n",
       "<path d=\"M160,-83.3664C160,-75.1516 160,-65.6579 160,-56.7252\" fill=\"none\" stroke=\"black\"/>\n",
       "<polygon fill=\"black\" points=\"163.5,-56.6068 160,-46.6068 156.5,-56.6069 163.5,-56.6068\" stroke=\"black\"/>\n",
       "</g>\n",
       "</g>\n",
       "</svg>"
      ],
      "text/plain": [
       "<IPython.core.display.SVG object>"
      ]
     },
     "execution_count": 25,
     "metadata": {},
     "output_type": "execute_result"
    }
   ],
   "source": [
    "model = Sequential()\n",
    "model.add(Flatten(input_shape=input_shape))\n",
    "model.add(Dense(200, activation='relu'))\n",
    "model.add(Dropout(rate=0.5))\n",
    "model.add(Dense(num_classes, activation='softmax'))\n",
    "print(model.summary())\n",
    "SVG(model_to_dot(model, show_shapes=True, dpi=65).create(prog='dot', format='svg'))"
   ]
  },
  {
   "cell_type": "code",
   "execution_count": 26,
   "metadata": {},
   "outputs": [
    {
     "name": "stdout",
     "output_type": "stream",
     "text": [
      "Train on 60000 samples, validate on 10000 samples\n",
      "Epoch 1/12\n",
      "60000/60000 [==============================] - 9s 148us/sample - loss: 0.4384 - accuracy: 0.8713 - val_loss: 0.1875 - val_accuracy: 0.9442\n",
      "Epoch 2/12\n",
      "60000/60000 [==============================] - 13s 217us/sample - loss: 0.2208 - accuracy: 0.9359 - val_loss: 0.1347 - val_accuracy: 0.9593\n",
      "Epoch 3/12\n",
      "60000/60000 [==============================] - 11s 184us/sample - loss: 0.1737 - accuracy: 0.9489 - val_loss: 0.1093 - val_accuracy: 0.9667\n",
      "Epoch 4/12\n",
      "60000/60000 [==============================] - 9s 157us/sample - loss: 0.1464 - accuracy: 0.9568 - val_loss: 0.0963 - val_accuracy: 0.9710\n",
      "Epoch 5/12\n",
      "60000/60000 [==============================] - 8s 129us/sample - loss: 0.1289 - accuracy: 0.9612 - val_loss: 0.0886 - val_accuracy: 0.9737\n",
      "Epoch 6/12\n",
      "60000/60000 [==============================] - 9s 149us/sample - loss: 0.1158 - accuracy: 0.9650 - val_loss: 0.0801 - val_accuracy: 0.9756\n",
      "Epoch 7/12\n",
      "60000/60000 [==============================] - 9s 144us/sample - loss: 0.1076 - accuracy: 0.9681 - val_loss: 0.0766 - val_accuracy: 0.9750\n",
      "Epoch 8/12\n",
      "60000/60000 [==============================] - 9s 150us/sample - loss: 0.1017 - accuracy: 0.9683 - val_loss: 0.0754 - val_accuracy: 0.9765\n",
      "Epoch 9/12\n",
      "60000/60000 [==============================] - 10s 167us/sample - loss: 0.0933 - accuracy: 0.9721 - val_loss: 0.0711 - val_accuracy: 0.9772\n",
      "Epoch 10/12\n",
      "60000/60000 [==============================] - 12s 205us/sample - loss: 0.0881 - accuracy: 0.9726 - val_loss: 0.0702 - val_accuracy: 0.9790\n",
      "Epoch 11/12\n",
      "60000/60000 [==============================] - 10s 166us/sample - loss: 0.0815 - accuracy: 0.9732 - val_loss: 0.0662 - val_accuracy: 0.9783\n",
      "Epoch 12/12\n",
      "60000/60000 [==============================] - 10s 165us/sample - loss: 0.0779 - accuracy: 0.9754 - val_loss: 0.0653 - val_accuracy: 0.9794\n"
     ]
    }
   ],
   "source": [
    "batch_size = 128\n",
    "epochs = 12\n",
    "\n",
    "model.compile(loss=categorical_crossentropy,\n",
    "              optimizer=Adam(),\n",
    "              metrics=['accuracy'])\n",
    "\n",
    "history = model.fit(\n",
    "    x_train, y_train,\n",
    "    batch_size=batch_size,\n",
    "    epochs=epochs,\n",
    "    verbose=1,\n",
    "    validation_data=(x_test, y_test)\n",
    ")"
   ]
  },
  {
   "cell_type": "code",
   "execution_count": 27,
   "metadata": {},
   "outputs": [
    {
     "name": "stdout",
     "output_type": "stream",
     "text": [
      "Test loss: 0.06525687221253756\n",
      "Test accuracy: 0.9794\n"
     ]
    },
    {
     "data": {
      "application/javascript": [
       "const spec = {\"config\": {\"view\": {\"width\": 400, \"height\": 300}, \"mark\": {\"tooltip\": null}}, \"layer\": [{\"data\": {\"name\": \"data-aa2b4f0390033ac354eac08a47987e79\"}, \"mark\": \"line\", \"encoding\": {\"color\": {\"type\": \"nominal\", \"field\": \"Legende\"}, \"x\": {\"type\": \"quantitative\", \"field\": \"Epoche\"}, \"y\": {\"type\": \"quantitative\", \"field\": \"Loss\"}}}, {\"data\": {\"name\": \"data-86dd3e5f9283acc1252b80bc82a34c4f\"}, \"mark\": \"line\", \"encoding\": {\"color\": {\"type\": \"nominal\", \"field\": \"Legende\"}, \"x\": {\"type\": \"quantitative\", \"field\": \"Epoche\"}, \"y\": {\"type\": \"quantitative\", \"field\": \"Accuracy\"}}}], \"resolve\": {\"scale\": {\"y\": \"independent\"}}, \"$schema\": \"https://vega.github.io/schema/vega-lite/v3.4.0.json\", \"datasets\": {\"data-aa2b4f0390033ac354eac08a47987e79\": [{\"Epoche\": 0, \"Legende\": \"Loss auf Trainingsdaten\", \"Loss\": 0.43835769475301106}, {\"Epoche\": 1, \"Legende\": \"Loss auf Trainingsdaten\", \"Loss\": 0.2208489012936751}, {\"Epoche\": 2, \"Legende\": \"Loss auf Trainingsdaten\", \"Loss\": 0.17367171010573704}, {\"Epoche\": 3, \"Legende\": \"Loss auf Trainingsdaten\", \"Loss\": 0.1464128680944443}, {\"Epoche\": 4, \"Legende\": \"Loss auf Trainingsdaten\", \"Loss\": 0.12894866505463917}, {\"Epoche\": 5, \"Legende\": \"Loss auf Trainingsdaten\", \"Loss\": 0.1158293806831042}, {\"Epoche\": 6, \"Legende\": \"Loss auf Trainingsdaten\", \"Loss\": 0.10759412088394164}, {\"Epoche\": 7, \"Legende\": \"Loss auf Trainingsdaten\", \"Loss\": 0.10171313534975052}, {\"Epoche\": 8, \"Legende\": \"Loss auf Trainingsdaten\", \"Loss\": 0.09334388041496276}, {\"Epoche\": 9, \"Legende\": \"Loss auf Trainingsdaten\", \"Loss\": 0.08805147860050201}, {\"Epoche\": 10, \"Legende\": \"Loss auf Trainingsdaten\", \"Loss\": 0.08148471572796503}, {\"Epoche\": 11, \"Legende\": \"Loss auf Trainingsdaten\", \"Loss\": 0.07793900919159254}, {\"Epoche\": 0, \"Legende\": \"Loss auf Testdaten\", \"Loss\": 0.1874818530678749}, {\"Epoche\": 1, \"Legende\": \"Loss auf Testdaten\", \"Loss\": 0.1346536408483982}, {\"Epoche\": 2, \"Legende\": \"Loss auf Testdaten\", \"Loss\": 0.10933349176049233}, {\"Epoche\": 3, \"Legende\": \"Loss auf Testdaten\", \"Loss\": 0.09633903079330922}, {\"Epoche\": 4, \"Legende\": \"Loss auf Testdaten\", \"Loss\": 0.08863239737227559}, {\"Epoche\": 5, \"Legende\": \"Loss auf Testdaten\", \"Loss\": 0.0800512925259769}, {\"Epoche\": 6, \"Legende\": \"Loss auf Testdaten\", \"Loss\": 0.07657480939999223}, {\"Epoche\": 7, \"Legende\": \"Loss auf Testdaten\", \"Loss\": 0.07536576140001416}, {\"Epoche\": 8, \"Legende\": \"Loss auf Testdaten\", \"Loss\": 0.07107445571869611}, {\"Epoche\": 9, \"Legende\": \"Loss auf Testdaten\", \"Loss\": 0.07024912339225411}, {\"Epoche\": 10, \"Legende\": \"Loss auf Testdaten\", \"Loss\": 0.06616670389734208}, {\"Epoche\": 11, \"Legende\": \"Loss auf Testdaten\", \"Loss\": 0.06525687152035535}], \"data-86dd3e5f9283acc1252b80bc82a34c4f\": [{\"Epoche\": 0, \"Legende\": \"Accuracy auf Trainingsdaten\", \"Accuracy\": 0.8712666630744934}, {\"Epoche\": 1, \"Legende\": \"Accuracy auf Trainingsdaten\", \"Accuracy\": 0.9359333515167236}, {\"Epoche\": 2, \"Legende\": \"Accuracy auf Trainingsdaten\", \"Accuracy\": 0.9489166736602783}, {\"Epoche\": 3, \"Legende\": \"Accuracy auf Trainingsdaten\", \"Accuracy\": 0.956766664981842}, {\"Epoche\": 4, \"Legende\": \"Accuracy auf Trainingsdaten\", \"Accuracy\": 0.9612166881561279}, {\"Epoche\": 5, \"Legende\": \"Accuracy auf Trainingsdaten\", \"Accuracy\": 0.9649999737739563}, {\"Epoche\": 6, \"Legende\": \"Accuracy auf Trainingsdaten\", \"Accuracy\": 0.9681000113487244}, {\"Epoche\": 7, \"Legende\": \"Accuracy auf Trainingsdaten\", \"Accuracy\": 0.9683499932289124}, {\"Epoche\": 8, \"Legende\": \"Accuracy auf Trainingsdaten\", \"Accuracy\": 0.9720666408538818}, {\"Epoche\": 9, \"Legende\": \"Accuracy auf Trainingsdaten\", \"Accuracy\": 0.972599983215332}, {\"Epoche\": 10, \"Legende\": \"Accuracy auf Trainingsdaten\", \"Accuracy\": 0.9732499718666077}, {\"Epoche\": 11, \"Legende\": \"Accuracy auf Trainingsdaten\", \"Accuracy\": 0.975433349609375}, {\"Epoche\": 0, \"Legende\": \"Accuracy auf Testdaten\", \"Accuracy\": 0.9441999793052673}, {\"Epoche\": 1, \"Legende\": \"Accuracy auf Testdaten\", \"Accuracy\": 0.9592999815940857}, {\"Epoche\": 2, \"Legende\": \"Accuracy auf Testdaten\", \"Accuracy\": 0.96670001745224}, {\"Epoche\": 3, \"Legende\": \"Accuracy auf Testdaten\", \"Accuracy\": 0.9710000157356262}, {\"Epoche\": 4, \"Legende\": \"Accuracy auf Testdaten\", \"Accuracy\": 0.9736999869346619}, {\"Epoche\": 5, \"Legende\": \"Accuracy auf Testdaten\", \"Accuracy\": 0.975600004196167}, {\"Epoche\": 6, \"Legende\": \"Accuracy auf Testdaten\", \"Accuracy\": 0.9750000238418579}, {\"Epoche\": 7, \"Legende\": \"Accuracy auf Testdaten\", \"Accuracy\": 0.9764999747276306}, {\"Epoche\": 8, \"Legende\": \"Accuracy auf Testdaten\", \"Accuracy\": 0.9771999716758728}, {\"Epoche\": 9, \"Legende\": \"Accuracy auf Testdaten\", \"Accuracy\": 0.9789999723434448}, {\"Epoche\": 10, \"Legende\": \"Accuracy auf Testdaten\", \"Accuracy\": 0.9782999753952026}, {\"Epoche\": 11, \"Legende\": \"Accuracy auf Testdaten\", \"Accuracy\": 0.9793999791145325}]}};\n",
       "const opt = {};\n",
       "const type = \"vega-lite\";\n",
       "const id = \"2b44b2eb-c178-49ee-ade8-4eb6a7189023\";\n",
       "\n",
       "const output_area = this;\n",
       "\n",
       "require([\"nbextensions/jupyter-vega/index\"], function(vega) {\n",
       "  const target = document.createElement(\"div\");\n",
       "  target.id = id;\n",
       "  target.className = \"vega-embed\";\n",
       "\n",
       "  const style = document.createElement(\"style\");\n",
       "  style.textContent = [\n",
       "    \".vega-embed .error p {\",\n",
       "    \"  color: firebrick;\",\n",
       "    \"  font-size: 14px;\",\n",
       "    \"}\",\n",
       "  ].join(\"\\\\n\");\n",
       "\n",
       "  // element is a jQuery wrapped DOM element inside the output area\n",
       "  // see http://ipython.readthedocs.io/en/stable/api/generated/\\\n",
       "  // IPython.display.html#IPython.display.Javascript.__init__\n",
       "  element[0].appendChild(target);\n",
       "  element[0].appendChild(style);\n",
       "\n",
       "  vega.render(\"#\" + id, spec, type, opt, output_area);\n",
       "}, function (err) {\n",
       "  if (err.requireType !== \"scripterror\") {\n",
       "    throw(err);\n",
       "  }\n",
       "});\n"
      ],
      "text/plain": [
       "<vega.vegalite.VegaLite at 0x23aeb705608>"
      ]
     },
     "metadata": {
      "jupyter-vega": "#2b44b2eb-c178-49ee-ade8-4eb6a7189023"
     },
     "output_type": "display_data"
    },
    {
     "data": {
      "text/plain": []
     },
     "execution_count": 27,
     "metadata": {},
     "output_type": "execute_result"
    },
    {
     "data": {
      "image/png": "[encoded data removed]"
     },
     "metadata": {
      "jupyter-vega": "#2b44b2eb-c178-49ee-ade8-4eb6a7189023"
     },
     "output_type": "display_data"
    }
   ],
   "source": [
    "evaluate(model, history)"
   ]
  },
  {
   "cell_type": "code",
   "execution_count": 28,
   "metadata": {},
   "outputs": [
    {
     "name": "stdout",
     "output_type": "stream",
     "text": [
      "Model: \"sequential_4\"\n",
      "_________________________________________________________________\n",
      "Layer (type)                 Output Shape              Param #   \n",
      "=================================================================\n",
      "conv2d (Conv2D)              (None, 26, 26, 32)        320       \n",
      "_________________________________________________________________\n",
      "conv2d_1 (Conv2D)            (None, 24, 24, 64)        18496     \n",
      "_________________________________________________________________\n",
      "max_pooling2d (MaxPooling2D) (None, 12, 12, 64)        0         \n",
      "_________________________________________________________________\n",
      "dropout_1 (Dropout)          (None, 12, 12, 64)        0         \n",
      "_________________________________________________________________\n",
      "flatten_4 (Flatten)          (None, 9216)              0         \n",
      "_________________________________________________________________\n",
      "dense_7 (Dense)              (None, 200)               1843400   \n",
      "_________________________________________________________________\n",
      "dropout_2 (Dropout)          (None, 200)               0         \n",
      "_________________________________________________________________\n",
      "dense_8 (Dense)              (None, 10)                2010      \n",
      "=================================================================\n",
      "Total params: 1,864,226\n",
      "Trainable params: 1,864,226\n",
      "Non-trainable params: 0\n",
      "_________________________________________________________________\n",
      "None\n"
     ]
    },
    {
     "data": {
      "image/svg+xml": [
       "<svg height=\"649pt\" viewBox=\"0.00 0.00 353.00 719.00\" width=\"319pt\" xmlns=\"http://www.w3.org/2000/svg\" xmlns:xlink=\"http://www.w3.org/1999/xlink\">\n",
       "<g class=\"graph\" id=\"graph0\" transform=\"scale(0.902778 0.902778) rotate(0) translate(4 715)\">\n",
       "<title>G</title>\n",
       "<polygon fill=\"white\" points=\"-4,4 -4,-715 349,-715 349,4 -4,4\" stroke=\"none\"/>\n",
       "<!-- 2452083723656 -->\n",
       "<g class=\"node\" id=\"node1\"><title>2452083723656</title>\n",
       "<polygon fill=\"none\" points=\"15.5,-664.5 15.5,-710.5 329.5,-710.5 329.5,-664.5 15.5,-664.5\" stroke=\"black\"/>\n",
       "<text font-family=\"Times New Roman,serif\" font-size=\"14.00\" text-anchor=\"middle\" x=\"96\" y=\"-683.8\">conv2d_input: InputLayer</text>\n",
       "<polyline fill=\"none\" points=\"176.5,-664.5 176.5,-710.5 \" stroke=\"black\"/>\n",
       "<text font-family=\"Times New Roman,serif\" font-size=\"14.00\" text-anchor=\"middle\" x=\"204.5\" y=\"-695.3\">input:</text>\n",
       "<polyline fill=\"none\" points=\"176.5,-687.5 232.5,-687.5 \" stroke=\"black\"/>\n",
       "<text font-family=\"Times New Roman,serif\" font-size=\"14.00\" text-anchor=\"middle\" x=\"204.5\" y=\"-672.3\">output:</text>\n",
       "<polyline fill=\"none\" points=\"232.5,-664.5 232.5,-710.5 \" stroke=\"black\"/>\n",
       "<text font-family=\"Times New Roman,serif\" font-size=\"14.00\" text-anchor=\"middle\" x=\"281\" y=\"-695.3\">[(?, 28, 28, 1)]</text>\n",
       "<polyline fill=\"none\" points=\"232.5,-687.5 329.5,-687.5 \" stroke=\"black\"/>\n",
       "<text font-family=\"Times New Roman,serif\" font-size=\"14.00\" text-anchor=\"middle\" x=\"281\" y=\"-672.3\">[(?, 28, 28, 1)]</text>\n",
       "</g>\n",
       "<!-- 2452083720264 -->\n",
       "<g class=\"node\" id=\"node2\"><title>2452083720264</title>\n",
       "<polygon fill=\"none\" points=\"40.5,-581.5 40.5,-627.5 304.5,-627.5 304.5,-581.5 40.5,-581.5\" stroke=\"black\"/>\n",
       "<text font-family=\"Times New Roman,serif\" font-size=\"14.00\" text-anchor=\"middle\" x=\"97\" y=\"-600.8\">conv2d: Conv2D</text>\n",
       "<polyline fill=\"none\" points=\"153.5,-581.5 153.5,-627.5 \" stroke=\"black\"/>\n",
       "<text font-family=\"Times New Roman,serif\" font-size=\"14.00\" text-anchor=\"middle\" x=\"181.5\" y=\"-612.3\">input:</text>\n",
       "<polyline fill=\"none\" points=\"153.5,-604.5 209.5,-604.5 \" stroke=\"black\"/>\n",
       "<text font-family=\"Times New Roman,serif\" font-size=\"14.00\" text-anchor=\"middle\" x=\"181.5\" y=\"-589.3\">output:</text>\n",
       "<polyline fill=\"none\" points=\"209.5,-581.5 209.5,-627.5 \" stroke=\"black\"/>\n",
       "<text font-family=\"Times New Roman,serif\" font-size=\"14.00\" text-anchor=\"middle\" x=\"257\" y=\"-612.3\">(?, 28, 28, 1)</text>\n",
       "<polyline fill=\"none\" points=\"209.5,-604.5 304.5,-604.5 \" stroke=\"black\"/>\n",
       "<text font-family=\"Times New Roman,serif\" font-size=\"14.00\" text-anchor=\"middle\" x=\"257\" y=\"-589.3\">(?, 26, 26, 32)</text>\n",
       "</g>\n",
       "<!-- 2452083723656&#45;&gt;2452083720264 -->\n",
       "<g class=\"edge\" id=\"edge1\"><title>2452083723656-&gt;2452083720264</title>\n",
       "<path d=\"M172.5,-664.366C172.5,-656.152 172.5,-646.658 172.5,-637.725\" fill=\"none\" stroke=\"black\"/>\n",
       "<polygon fill=\"black\" points=\"176,-637.607 172.5,-627.607 169,-637.607 176,-637.607\" stroke=\"black\"/>\n",
       "</g>\n",
       "<!-- 2452083722056 -->\n",
       "<g class=\"node\" id=\"node3\"><title>2452083722056</title>\n",
       "<polygon fill=\"none\" points=\"33.5,-498.5 33.5,-544.5 311.5,-544.5 311.5,-498.5 33.5,-498.5\" stroke=\"black\"/>\n",
       "<text font-family=\"Times New Roman,serif\" font-size=\"14.00\" text-anchor=\"middle\" x=\"97\" y=\"-517.8\">conv2d_1: Conv2D</text>\n",
       "<polyline fill=\"none\" points=\"160.5,-498.5 160.5,-544.5 \" stroke=\"black\"/>\n",
       "<text font-family=\"Times New Roman,serif\" font-size=\"14.00\" text-anchor=\"middle\" x=\"188.5\" y=\"-529.3\">input:</text>\n",
       "<polyline fill=\"none\" points=\"160.5,-521.5 216.5,-521.5 \" stroke=\"black\"/>\n",
       "<text font-family=\"Times New Roman,serif\" font-size=\"14.00\" text-anchor=\"middle\" x=\"188.5\" y=\"-506.3\">output:</text>\n",
       "<polyline fill=\"none\" points=\"216.5,-498.5 216.5,-544.5 \" stroke=\"black\"/>\n",
       "<text font-family=\"Times New Roman,serif\" font-size=\"14.00\" text-anchor=\"middle\" x=\"264\" y=\"-529.3\">(?, 26, 26, 32)</text>\n",
       "<polyline fill=\"none\" points=\"216.5,-521.5 311.5,-521.5 \" stroke=\"black\"/>\n",
       "<text font-family=\"Times New Roman,serif\" font-size=\"14.00\" text-anchor=\"middle\" x=\"264\" y=\"-506.3\">(?, 24, 24, 64)</text>\n",
       "</g>\n",
       "<!-- 2452083720264&#45;&gt;2452083722056 -->\n",
       "<g class=\"edge\" id=\"edge2\"><title>2452083720264-&gt;2452083722056</title>\n",
       "<path d=\"M172.5,-581.366C172.5,-573.152 172.5,-563.658 172.5,-554.725\" fill=\"none\" stroke=\"black\"/>\n",
       "<polygon fill=\"black\" points=\"176,-554.607 172.5,-544.607 169,-554.607 176,-554.607\" stroke=\"black\"/>\n",
       "</g>\n",
       "<!-- 2452083650184 -->\n",
       "<g class=\"node\" id=\"node4\"><title>2452083650184</title>\n",
       "<polygon fill=\"none\" points=\"0,-415.5 0,-461.5 345,-461.5 345,-415.5 0,-415.5\" stroke=\"black\"/>\n",
       "<text font-family=\"Times New Roman,serif\" font-size=\"14.00\" text-anchor=\"middle\" x=\"97\" y=\"-434.8\">max_pooling2d: MaxPooling2D</text>\n",
       "<polyline fill=\"none\" points=\"194,-415.5 194,-461.5 \" stroke=\"black\"/>\n",
       "<text font-family=\"Times New Roman,serif\" font-size=\"14.00\" text-anchor=\"middle\" x=\"222\" y=\"-446.3\">input:</text>\n",
       "<polyline fill=\"none\" points=\"194,-438.5 250,-438.5 \" stroke=\"black\"/>\n",
       "<text font-family=\"Times New Roman,serif\" font-size=\"14.00\" text-anchor=\"middle\" x=\"222\" y=\"-423.3\">output:</text>\n",
       "<polyline fill=\"none\" points=\"250,-415.5 250,-461.5 \" stroke=\"black\"/>\n",
       "<text font-family=\"Times New Roman,serif\" font-size=\"14.00\" text-anchor=\"middle\" x=\"297.5\" y=\"-446.3\">(?, 24, 24, 64)</text>\n",
       "<polyline fill=\"none\" points=\"250,-438.5 345,-438.5 \" stroke=\"black\"/>\n",
       "<text font-family=\"Times New Roman,serif\" font-size=\"14.00\" text-anchor=\"middle\" x=\"297.5\" y=\"-423.3\">(?, 12, 12, 64)</text>\n",
       "</g>\n",
       "<!-- 2452083722056&#45;&gt;2452083650184 -->\n",
       "<g class=\"edge\" id=\"edge3\"><title>2452083722056-&gt;2452083650184</title>\n",
       "<path d=\"M172.5,-498.366C172.5,-490.152 172.5,-480.658 172.5,-471.725\" fill=\"none\" stroke=\"black\"/>\n",
       "<polygon fill=\"black\" points=\"176,-471.607 172.5,-461.607 169,-471.607 176,-471.607\" stroke=\"black\"/>\n",
       "</g>\n",
       "<!-- 2452083840456 -->\n",
       "<g class=\"node\" id=\"node5\"><title>2452083840456</title>\n",
       "<polygon fill=\"none\" points=\"32,-332.5 32,-378.5 313,-378.5 313,-332.5 32,-332.5\" stroke=\"black\"/>\n",
       "<text font-family=\"Times New Roman,serif\" font-size=\"14.00\" text-anchor=\"middle\" x=\"97\" y=\"-351.8\">dropout_1: Dropout</text>\n",
       "<polyline fill=\"none\" points=\"162,-332.5 162,-378.5 \" stroke=\"black\"/>\n",
       "<text font-family=\"Times New Roman,serif\" font-size=\"14.00\" text-anchor=\"middle\" x=\"190\" y=\"-363.3\">input:</text>\n",
       "<polyline fill=\"none\" points=\"162,-355.5 218,-355.5 \" stroke=\"black\"/>\n",
       "<text font-family=\"Times New Roman,serif\" font-size=\"14.00\" text-anchor=\"middle\" x=\"190\" y=\"-340.3\">output:</text>\n",
       "<polyline fill=\"none\" points=\"218,-332.5 218,-378.5 \" stroke=\"black\"/>\n",
       "<text font-family=\"Times New Roman,serif\" font-size=\"14.00\" text-anchor=\"middle\" x=\"265.5\" y=\"-363.3\">(?, 12, 12, 64)</text>\n",
       "<polyline fill=\"none\" points=\"218,-355.5 313,-355.5 \" stroke=\"black\"/>\n",
       "<text font-family=\"Times New Roman,serif\" font-size=\"14.00\" text-anchor=\"middle\" x=\"265.5\" y=\"-340.3\">(?, 12, 12, 64)</text>\n",
       "</g>\n",
       "<!-- 2452083650184&#45;&gt;2452083840456 -->\n",
       "<g class=\"edge\" id=\"edge4\"><title>2452083650184-&gt;2452083840456</title>\n",
       "<path d=\"M172.5,-415.366C172.5,-407.152 172.5,-397.658 172.5,-388.725\" fill=\"none\" stroke=\"black\"/>\n",
       "<polygon fill=\"black\" points=\"176,-388.607 172.5,-378.607 169,-388.607 176,-388.607\" stroke=\"black\"/>\n",
       "</g>\n",
       "<!-- 2452083843336 -->\n",
       "<g class=\"node\" id=\"node6\"><title>2452083843336</title>\n",
       "<polygon fill=\"none\" points=\"42.5,-249.5 42.5,-295.5 302.5,-295.5 302.5,-249.5 42.5,-249.5\" stroke=\"black\"/>\n",
       "<text font-family=\"Times New Roman,serif\" font-size=\"14.00\" text-anchor=\"middle\" x=\"97\" y=\"-268.8\">flatten_4: Flatten</text>\n",
       "<polyline fill=\"none\" points=\"151.5,-249.5 151.5,-295.5 \" stroke=\"black\"/>\n",
       "<text font-family=\"Times New Roman,serif\" font-size=\"14.00\" text-anchor=\"middle\" x=\"179.5\" y=\"-280.3\">input:</text>\n",
       "<polyline fill=\"none\" points=\"151.5,-272.5 207.5,-272.5 \" stroke=\"black\"/>\n",
       "<text font-family=\"Times New Roman,serif\" font-size=\"14.00\" text-anchor=\"middle\" x=\"179.5\" y=\"-257.3\">output:</text>\n",
       "<polyline fill=\"none\" points=\"207.5,-249.5 207.5,-295.5 \" stroke=\"black\"/>\n",
       "<text font-family=\"Times New Roman,serif\" font-size=\"14.00\" text-anchor=\"middle\" x=\"255\" y=\"-280.3\">(?, 12, 12, 64)</text>\n",
       "<polyline fill=\"none\" points=\"207.5,-272.5 302.5,-272.5 \" stroke=\"black\"/>\n",
       "<text font-family=\"Times New Roman,serif\" font-size=\"14.00\" text-anchor=\"middle\" x=\"255\" y=\"-257.3\">(?, 9216)</text>\n",
       "</g>\n",
       "<!-- 2452083840456&#45;&gt;2452083843336 -->\n",
       "<g class=\"edge\" id=\"edge5\"><title>2452083840456-&gt;2452083843336</title>\n",
       "<path d=\"M172.5,-332.366C172.5,-324.152 172.5,-314.658 172.5,-305.725\" fill=\"none\" stroke=\"black\"/>\n",
       "<polygon fill=\"black\" points=\"176,-305.607 172.5,-295.607 169,-305.607 176,-305.607\" stroke=\"black\"/>\n",
       "</g>\n",
       "<!-- 2452083869064 -->\n",
       "<g class=\"node\" id=\"node7\"><title>2452083869064</title>\n",
       "<polygon fill=\"none\" points=\"59.5,-166.5 59.5,-212.5 285.5,-212.5 285.5,-166.5 59.5,-166.5\" stroke=\"black\"/>\n",
       "<text font-family=\"Times New Roman,serif\" font-size=\"14.00\" text-anchor=\"middle\" x=\"111.5\" y=\"-185.8\">dense_7: Dense</text>\n",
       "<polyline fill=\"none\" points=\"163.5,-166.5 163.5,-212.5 \" stroke=\"black\"/>\n",
       "<text font-family=\"Times New Roman,serif\" font-size=\"14.00\" text-anchor=\"middle\" x=\"191.5\" y=\"-197.3\">input:</text>\n",
       "<polyline fill=\"none\" points=\"163.5,-189.5 219.5,-189.5 \" stroke=\"black\"/>\n",
       "<text font-family=\"Times New Roman,serif\" font-size=\"14.00\" text-anchor=\"middle\" x=\"191.5\" y=\"-174.3\">output:</text>\n",
       "<polyline fill=\"none\" points=\"219.5,-166.5 219.5,-212.5 \" stroke=\"black\"/>\n",
       "<text font-family=\"Times New Roman,serif\" font-size=\"14.00\" text-anchor=\"middle\" x=\"252.5\" y=\"-197.3\">(?, 9216)</text>\n",
       "<polyline fill=\"none\" points=\"219.5,-189.5 285.5,-189.5 \" stroke=\"black\"/>\n",
       "<text font-family=\"Times New Roman,serif\" font-size=\"14.00\" text-anchor=\"middle\" x=\"252.5\" y=\"-174.3\">(?, 200)</text>\n",
       "</g>\n",
       "<!-- 2452083843336&#45;&gt;2452083869064 -->\n",
       "<g class=\"edge\" id=\"edge6\"><title>2452083843336-&gt;2452083869064</title>\n",
       "<path d=\"M172.5,-249.366C172.5,-241.152 172.5,-231.658 172.5,-222.725\" fill=\"none\" stroke=\"black\"/>\n",
       "<polygon fill=\"black\" points=\"176,-222.607 172.5,-212.607 169,-222.607 176,-222.607\" stroke=\"black\"/>\n",
       "</g>\n",
       "<!-- 2452083871432 -->\n",
       "<g class=\"node\" id=\"node8\"><title>2452083871432</title>\n",
       "<polygon fill=\"none\" points=\"50,-83.5 50,-129.5 295,-129.5 295,-83.5 50,-83.5\" stroke=\"black\"/>\n",
       "<text font-family=\"Times New Roman,serif\" font-size=\"14.00\" text-anchor=\"middle\" x=\"115\" y=\"-102.8\">dropout_2: Dropout</text>\n",
       "<polyline fill=\"none\" points=\"180,-83.5 180,-129.5 \" stroke=\"black\"/>\n",
       "<text font-family=\"Times New Roman,serif\" font-size=\"14.00\" text-anchor=\"middle\" x=\"208\" y=\"-114.3\">input:</text>\n",
       "<polyline fill=\"none\" points=\"180,-106.5 236,-106.5 \" stroke=\"black\"/>\n",
       "<text font-family=\"Times New Roman,serif\" font-size=\"14.00\" text-anchor=\"middle\" x=\"208\" y=\"-91.3\">output:</text>\n",
       "<polyline fill=\"none\" points=\"236,-83.5 236,-129.5 \" stroke=\"black\"/>\n",
       "<text font-family=\"Times New Roman,serif\" font-size=\"14.00\" text-anchor=\"middle\" x=\"265.5\" y=\"-114.3\">(?, 200)</text>\n",
       "<polyline fill=\"none\" points=\"236,-106.5 295,-106.5 \" stroke=\"black\"/>\n",
       "<text font-family=\"Times New Roman,serif\" font-size=\"14.00\" text-anchor=\"middle\" x=\"265.5\" y=\"-91.3\">(?, 200)</text>\n",
       "</g>\n",
       "<!-- 2452083869064&#45;&gt;2452083871432 -->\n",
       "<g class=\"edge\" id=\"edge7\"><title>2452083869064-&gt;2452083871432</title>\n",
       "<path d=\"M172.5,-166.366C172.5,-158.152 172.5,-148.658 172.5,-139.725\" fill=\"none\" stroke=\"black\"/>\n",
       "<polygon fill=\"black\" points=\"176,-139.607 172.5,-129.607 169,-139.607 176,-139.607\" stroke=\"black\"/>\n",
       "</g>\n",
       "<!-- 2452084353864 -->\n",
       "<g class=\"node\" id=\"node9\"><title>2452084353864</title>\n",
       "<polygon fill=\"none\" points=\"63,-0.5 63,-46.5 282,-46.5 282,-0.5 63,-0.5\" stroke=\"black\"/>\n",
       "<text font-family=\"Times New Roman,serif\" font-size=\"14.00\" text-anchor=\"middle\" x=\"115\" y=\"-19.8\">dense_8: Dense</text>\n",
       "<polyline fill=\"none\" points=\"167,-0.5 167,-46.5 \" stroke=\"black\"/>\n",
       "<text font-family=\"Times New Roman,serif\" font-size=\"14.00\" text-anchor=\"middle\" x=\"195\" y=\"-31.3\">input:</text>\n",
       "<polyline fill=\"none\" points=\"167,-23.5 223,-23.5 \" stroke=\"black\"/>\n",
       "<text font-family=\"Times New Roman,serif\" font-size=\"14.00\" text-anchor=\"middle\" x=\"195\" y=\"-8.3\">output:</text>\n",
       "<polyline fill=\"none\" points=\"223,-0.5 223,-46.5 \" stroke=\"black\"/>\n",
       "<text font-family=\"Times New Roman,serif\" font-size=\"14.00\" text-anchor=\"middle\" x=\"252.5\" y=\"-31.3\">(?, 200)</text>\n",
       "<polyline fill=\"none\" points=\"223,-23.5 282,-23.5 \" stroke=\"black\"/>\n",
       "<text font-family=\"Times New Roman,serif\" font-size=\"14.00\" text-anchor=\"middle\" x=\"252.5\" y=\"-8.3\">(?, 10)</text>\n",
       "</g>\n",
       "<!-- 2452083871432&#45;&gt;2452084353864 -->\n",
       "<g class=\"edge\" id=\"edge8\"><title>2452083871432-&gt;2452084353864</title>\n",
       "<path d=\"M172.5,-83.3664C172.5,-75.1516 172.5,-65.6579 172.5,-56.7252\" fill=\"none\" stroke=\"black\"/>\n",
       "<polygon fill=\"black\" points=\"176,-56.6068 172.5,-46.6068 169,-56.6069 176,-56.6068\" stroke=\"black\"/>\n",
       "</g>\n",
       "</g>\n",
       "</svg>"
      ],
      "text/plain": [
       "<IPython.core.display.SVG object>"
      ]
     },
     "execution_count": 28,
     "metadata": {},
     "output_type": "execute_result"
    }
   ],
   "source": [
    "model = Sequential()\n",
    "model.add(Conv2D(\n",
    "             32, kernel_size=(3, 3), \n",
    "             activation='relu', \n",
    "             input_shape=input_shape))\n",
    "model.add(Conv2D(\n",
    "             64, kernel_size=(3, 3), \n",
    "             activation='relu'))\n",
    "model.add(MaxPooling2D(\n",
    "             pool_size=(2, 2)))\n",
    "model.add(Dropout(0.25))\n",
    "model.add(Flatten())\n",
    "model.add(Dense(200, activation='relu'))\n",
    "model.add(Dropout(rate=0.5))\n",
    "model.add(Dense(num_classes, activation='softmax'))\n",
    "print(model.summary())\n",
    "SVG(model_to_dot(model, show_shapes=True, dpi=65).create(prog='dot', format='svg'))"
   ]
  },
  {
   "cell_type": "markdown",
   "metadata": {},
   "source": [
    "![Struktur des Convolutional Network](Convnet.svg)"
   ]
  },
  {
   "cell_type": "code",
   "execution_count": null,
   "metadata": {},
   "outputs": [],
   "source": [
    "batch_size = 128\n",
    "epochs = 12\n",
    "\n",
    "model.compile(loss=categorical_crossentropy,\n",
    "              optimizer=Adam(),\n",
    "              metrics=['accuracy'])\n",
    "\n",
    "history = model.fit(\n",
    "    x_train, y_train,\n",
    "    batch_size=batch_size,\n",
    "    epochs=epochs,\n",
    "    verbose=1,\n",
    "    validation_data=(x_test, y_test)\n",
    ")"
   ]
  },
  {
   "cell_type": "code",
   "execution_count": null,
   "metadata": {},
   "outputs": [],
   "source": [
    "evaluate(model, history)"
   ]
  },
  {
   "cell_type": "markdown",
   "metadata": {},
   "source": [
    "Schöne 3D-Visualisierung eines Convolutional Networks für MNIST: http://scs.ryerson.ca/~aharley/vis/conv/"
   ]
  }
 ],
 "metadata": {
  "kernelspec": {
   "display_name": "Python 3",
   "language": "python",
   "name": "python3"
  },
  "language_info": {
   "codemirror_mode": {
    "name": "ipython",
    "version": 3
   },
   "file_extension": ".py",
   "mimetype": "text/x-python",
   "name": "python",
   "nbconvert_exporter": "python",
   "pygments_lexer": "ipython3",
   "version": "3.7.5"
  }
 },
 "nbformat": 4,
 "nbformat_minor": 2
}
